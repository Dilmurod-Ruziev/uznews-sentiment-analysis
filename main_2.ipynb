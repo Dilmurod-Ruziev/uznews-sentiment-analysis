{
 "cells": [
  {
   "cell_type": "code",
   "execution_count": 1,
   "id": "34b628b1",
   "metadata": {
    "execution": {
     "iopub.execute_input": "2023-05-02T16:17:14.628513Z",
     "iopub.status.busy": "2023-05-02T16:17:14.627701Z",
     "iopub.status.idle": "2023-05-02T16:17:14.639555Z",
     "shell.execute_reply": "2023-05-02T16:17:14.638566Z"
    },
    "papermill": {
     "duration": 0.027292,
     "end_time": "2023-05-02T16:17:14.641870",
     "exception": false,
     "start_time": "2023-05-02T16:17:14.614578",
     "status": "completed"
    },
    "tags": []
   },
   "outputs": [],
   "source": [
    "import re\n",
    "\n",
    "import matplotlib.pyplot as plt\n",
    "import pandas as pd"
   ]
  },
  {
   "cell_type": "code",
   "execution_count": 2,
   "id": "ea639cd2",
   "metadata": {
    "execution": {
     "iopub.execute_input": "2023-05-02T16:17:14.663319Z",
     "iopub.status.busy": "2023-05-02T16:17:14.662639Z",
     "iopub.status.idle": "2023-05-02T16:17:14.974838Z",
     "shell.execute_reply": "2023-05-02T16:17:14.973354Z"
    },
    "jupyter": {
     "outputs_hidden": false
    },
    "papermill": {
     "duration": 0.326237,
     "end_time": "2023-05-02T16:17:14.977644",
     "exception": false,
     "start_time": "2023-05-02T16:17:14.651407",
     "status": "completed"
    },
    "tags": []
   },
   "outputs": [],
   "source": [
    "df = pd.read_csv('datasets/uzreport_uz/uzreport_uz_original.csv')"
   ]
  },
  {
   "cell_type": "code",
   "execution_count": 3,
   "id": "531b255f",
   "metadata": {
    "execution": {
     "iopub.execute_input": "2023-05-02T16:17:14.998894Z",
     "iopub.status.busy": "2023-05-02T16:17:14.998501Z",
     "iopub.status.idle": "2023-05-02T16:17:15.034831Z",
     "shell.execute_reply": "2023-05-02T16:17:15.034001Z"
    },
    "jupyter": {
     "outputs_hidden": false
    },
    "papermill": {
     "duration": 0.049829,
     "end_time": "2023-05-02T16:17:15.037484",
     "exception": false,
     "start_time": "2023-05-02T16:17:14.987655",
     "status": "completed"
    },
    "tags": []
   },
   "outputs": [
    {
     "data": {
      "text/html": [
       "<div>\n",
       "<style scoped>\n",
       "    .dataframe tbody tr th:only-of-type {\n",
       "        vertical-align: middle;\n",
       "    }\n",
       "\n",
       "    .dataframe tbody tr th {\n",
       "        vertical-align: top;\n",
       "    }\n",
       "\n",
       "    .dataframe thead th {\n",
       "        text-align: right;\n",
       "    }\n",
       "</style>\n",
       "<table border=\"1\" class=\"dataframe\">\n",
       "  <thead>\n",
       "    <tr style=\"text-align: right;\">\n",
       "      <th></th>\n",
       "      <th>text</th>\n",
       "      <th>date</th>\n",
       "      <th>view_count</th>\n",
       "      <th>like_count</th>\n",
       "      <th>dislike_count</th>\n",
       "      <th>love_count</th>\n",
       "      <th>fire_count</th>\n",
       "      <th>happy_count</th>\n",
       "      <th>shocked_count</th>\n",
       "      <th>sad_count</th>\n",
       "      <th>party_count</th>\n",
       "      <th>star_eyes_count</th>\n",
       "    </tr>\n",
       "  </thead>\n",
       "  <tbody>\n",
       "    <tr>\n",
       "      <th>0</th>\n",
       "      <td>Xitoy kompaniyasi Toshkentdagi 30 ta yirik kor...</td>\n",
       "      <td>2023-05-02 12:46:01</td>\n",
       "      <td>422</td>\n",
       "      <td>0</td>\n",
       "      <td>0</td>\n",
       "      <td>0</td>\n",
       "      <td>0</td>\n",
       "      <td>0</td>\n",
       "      <td>0</td>\n",
       "      <td>0</td>\n",
       "      <td>0</td>\n",
       "      <td>0</td>\n",
       "    </tr>\n",
       "    <tr>\n",
       "      <th>1</th>\n",
       "      <td>Finlyandiya o‘z hududida Amerika harbiy bazasi...</td>\n",
       "      <td>2023-05-02 12:31:58</td>\n",
       "      <td>2236</td>\n",
       "      <td>7</td>\n",
       "      <td>13</td>\n",
       "      <td>0</td>\n",
       "      <td>0</td>\n",
       "      <td>3</td>\n",
       "      <td>0</td>\n",
       "      <td>0</td>\n",
       "      <td>0</td>\n",
       "      <td>0</td>\n",
       "    </tr>\n",
       "    <tr>\n",
       "      <th>2</th>\n",
       "      <td>Namangan viloyati hokimiga birinchi o‘rinbosar...</td>\n",
       "      <td>2023-05-02 12:15:52</td>\n",
       "      <td>3626</td>\n",
       "      <td>3</td>\n",
       "      <td>5</td>\n",
       "      <td>0</td>\n",
       "      <td>0</td>\n",
       "      <td>0</td>\n",
       "      <td>0</td>\n",
       "      <td>0</td>\n",
       "      <td>0</td>\n",
       "      <td>0</td>\n",
       "    </tr>\n",
       "    <tr>\n",
       "      <th>3</th>\n",
       "      <td>Bolgariya Bosh prokurori Ivan Geshevning hayot...</td>\n",
       "      <td>2023-05-02 12:02:00</td>\n",
       "      <td>4482</td>\n",
       "      <td>9</td>\n",
       "      <td>2</td>\n",
       "      <td>0</td>\n",
       "      <td>0</td>\n",
       "      <td>0</td>\n",
       "      <td>0</td>\n",
       "      <td>0</td>\n",
       "      <td>0</td>\n",
       "      <td>0</td>\n",
       "    </tr>\n",
       "    <tr>\n",
       "      <th>4</th>\n",
       "      <td>\"PSJ\" Messining o'rniga bir nechta nomzodlar k...</td>\n",
       "      <td>2023-05-02 11:45:48</td>\n",
       "      <td>5952</td>\n",
       "      <td>15</td>\n",
       "      <td>0</td>\n",
       "      <td>0</td>\n",
       "      <td>0</td>\n",
       "      <td>26</td>\n",
       "      <td>0</td>\n",
       "      <td>0</td>\n",
       "      <td>0</td>\n",
       "      <td>0</td>\n",
       "    </tr>\n",
       "  </tbody>\n",
       "</table>\n",
       "</div>"
      ],
      "text/plain": [
       "                                                text                 date  \\\n",
       "0  Xitoy kompaniyasi Toshkentdagi 30 ta yirik kor...  2023-05-02 12:46:01   \n",
       "1  Finlyandiya o‘z hududida Amerika harbiy bazasi...  2023-05-02 12:31:58   \n",
       "2  Namangan viloyati hokimiga birinchi o‘rinbosar...  2023-05-02 12:15:52   \n",
       "3  Bolgariya Bosh prokurori Ivan Geshevning hayot...  2023-05-02 12:02:00   \n",
       "4  \"PSJ\" Messining o'rniga bir nechta nomzodlar k...  2023-05-02 11:45:48   \n",
       "\n",
       "   view_count  like_count  dislike_count  love_count  fire_count  happy_count  \\\n",
       "0         422           0              0           0           0            0   \n",
       "1        2236           7             13           0           0            3   \n",
       "2        3626           3              5           0           0            0   \n",
       "3        4482           9              2           0           0            0   \n",
       "4        5952          15              0           0           0           26   \n",
       "\n",
       "   shocked_count  sad_count  party_count  star_eyes_count  \n",
       "0              0          0            0                0  \n",
       "1              0          0            0                0  \n",
       "2              0          0            0                0  \n",
       "3              0          0            0                0  \n",
       "4              0          0            0                0  "
      ]
     },
     "execution_count": 3,
     "metadata": {},
     "output_type": "execute_result"
    }
   ],
   "source": [
    "df.head()"
   ]
  },
  {
   "cell_type": "code",
   "execution_count": 4,
   "id": "34e8be80",
   "metadata": {
    "execution": {
     "iopub.execute_input": "2023-05-02T16:17:15.063172Z",
     "iopub.status.busy": "2023-05-02T16:17:15.062427Z",
     "iopub.status.idle": "2023-05-02T16:17:15.111749Z",
     "shell.execute_reply": "2023-05-02T16:17:15.110644Z"
    },
    "jupyter": {
     "outputs_hidden": false
    },
    "papermill": {
     "duration": 0.065851,
     "end_time": "2023-05-02T16:17:15.114286",
     "exception": false,
     "start_time": "2023-05-02T16:17:15.048435",
     "status": "completed"
    },
    "tags": []
   },
   "outputs": [
    {
     "name": "stdout",
     "output_type": "stream",
     "text": [
      "<class 'pandas.core.frame.DataFrame'>\n",
      "RangeIndex: 20143 entries, 0 to 20142\n",
      "Data columns (total 12 columns):\n",
      " #   Column           Non-Null Count  Dtype \n",
      "---  ------           --------------  ----- \n",
      " 0   text             20143 non-null  object\n",
      " 1   date             20143 non-null  object\n",
      " 2   view_count       20143 non-null  int64 \n",
      " 3   like_count       20143 non-null  int64 \n",
      " 4   dislike_count    20143 non-null  int64 \n",
      " 5   love_count       20143 non-null  int64 \n",
      " 6   fire_count       20143 non-null  int64 \n",
      " 7   happy_count      20143 non-null  int64 \n",
      " 8   shocked_count    20143 non-null  int64 \n",
      " 9   sad_count        20143 non-null  int64 \n",
      " 10  party_count      20143 non-null  int64 \n",
      " 11  star_eyes_count  20143 non-null  int64 \n",
      "dtypes: int64(10), object(2)\n",
      "memory usage: 1.8+ MB\n"
     ]
    }
   ],
   "source": [
    "df.info()"
   ]
  },
  {
   "cell_type": "code",
   "execution_count": 5,
   "id": "7dc882fd",
   "metadata": {
    "execution": {
     "iopub.execute_input": "2023-05-02T16:17:15.136634Z",
     "iopub.status.busy": "2023-05-02T16:17:15.135810Z",
     "iopub.status.idle": "2023-05-02T16:17:15.186839Z",
     "shell.execute_reply": "2023-05-02T16:17:15.185732Z"
    },
    "jupyter": {
     "outputs_hidden": false
    },
    "papermill": {
     "duration": 0.064989,
     "end_time": "2023-05-02T16:17:15.189388",
     "exception": false,
     "start_time": "2023-05-02T16:17:15.124399",
     "status": "completed"
    },
    "tags": []
   },
   "outputs": [
    {
     "data": {
      "text/html": [
       "<div>\n",
       "<style scoped>\n",
       "    .dataframe tbody tr th:only-of-type {\n",
       "        vertical-align: middle;\n",
       "    }\n",
       "\n",
       "    .dataframe tbody tr th {\n",
       "        vertical-align: top;\n",
       "    }\n",
       "\n",
       "    .dataframe thead th {\n",
       "        text-align: right;\n",
       "    }\n",
       "</style>\n",
       "<table border=\"1\" class=\"dataframe\">\n",
       "  <thead>\n",
       "    <tr style=\"text-align: right;\">\n",
       "      <th></th>\n",
       "      <th>view_count</th>\n",
       "      <th>like_count</th>\n",
       "      <th>dislike_count</th>\n",
       "      <th>love_count</th>\n",
       "      <th>fire_count</th>\n",
       "      <th>happy_count</th>\n",
       "      <th>shocked_count</th>\n",
       "      <th>sad_count</th>\n",
       "      <th>party_count</th>\n",
       "      <th>star_eyes_count</th>\n",
       "    </tr>\n",
       "  </thead>\n",
       "  <tbody>\n",
       "    <tr>\n",
       "      <th>count</th>\n",
       "      <td>20143.000000</td>\n",
       "      <td>20143.000000</td>\n",
       "      <td>20143.000000</td>\n",
       "      <td>20143.0</td>\n",
       "      <td>20143.000000</td>\n",
       "      <td>20143.000000</td>\n",
       "      <td>20143.000000</td>\n",
       "      <td>20143.000000</td>\n",
       "      <td>20143.000000</td>\n",
       "      <td>20143.000000</td>\n",
       "    </tr>\n",
       "    <tr>\n",
       "      <th>mean</th>\n",
       "      <td>18628.387132</td>\n",
       "      <td>34.523060</td>\n",
       "      <td>8.666038</td>\n",
       "      <td>0.0</td>\n",
       "      <td>2.714640</td>\n",
       "      <td>7.655215</td>\n",
       "      <td>3.473663</td>\n",
       "      <td>3.154843</td>\n",
       "      <td>0.686889</td>\n",
       "      <td>0.964057</td>\n",
       "    </tr>\n",
       "    <tr>\n",
       "      <th>std</th>\n",
       "      <td>18708.543548</td>\n",
       "      <td>38.110126</td>\n",
       "      <td>20.184422</td>\n",
       "      <td>0.0</td>\n",
       "      <td>50.023114</td>\n",
       "      <td>17.931356</td>\n",
       "      <td>10.204443</td>\n",
       "      <td>14.021856</td>\n",
       "      <td>4.043676</td>\n",
       "      <td>4.912995</td>\n",
       "    </tr>\n",
       "    <tr>\n",
       "      <th>min</th>\n",
       "      <td>422.000000</td>\n",
       "      <td>0.000000</td>\n",
       "      <td>0.000000</td>\n",
       "      <td>0.0</td>\n",
       "      <td>0.000000</td>\n",
       "      <td>0.000000</td>\n",
       "      <td>0.000000</td>\n",
       "      <td>0.000000</td>\n",
       "      <td>0.000000</td>\n",
       "      <td>0.000000</td>\n",
       "    </tr>\n",
       "    <tr>\n",
       "      <th>25%</th>\n",
       "      <td>14117.000000</td>\n",
       "      <td>15.000000</td>\n",
       "      <td>0.000000</td>\n",
       "      <td>0.0</td>\n",
       "      <td>0.000000</td>\n",
       "      <td>0.000000</td>\n",
       "      <td>0.000000</td>\n",
       "      <td>0.000000</td>\n",
       "      <td>0.000000</td>\n",
       "      <td>0.000000</td>\n",
       "    </tr>\n",
       "    <tr>\n",
       "      <th>50%</th>\n",
       "      <td>16160.000000</td>\n",
       "      <td>24.000000</td>\n",
       "      <td>2.000000</td>\n",
       "      <td>0.0</td>\n",
       "      <td>0.000000</td>\n",
       "      <td>1.000000</td>\n",
       "      <td>0.000000</td>\n",
       "      <td>0.000000</td>\n",
       "      <td>0.000000</td>\n",
       "      <td>0.000000</td>\n",
       "    </tr>\n",
       "    <tr>\n",
       "      <th>75%</th>\n",
       "      <td>18440.500000</td>\n",
       "      <td>39.000000</td>\n",
       "      <td>8.000000</td>\n",
       "      <td>0.0</td>\n",
       "      <td>1.000000</td>\n",
       "      <td>6.000000</td>\n",
       "      <td>2.000000</td>\n",
       "      <td>0.000000</td>\n",
       "      <td>0.000000</td>\n",
       "      <td>0.000000</td>\n",
       "    </tr>\n",
       "    <tr>\n",
       "      <th>max</th>\n",
       "      <td>633451.000000</td>\n",
       "      <td>782.000000</td>\n",
       "      <td>439.000000</td>\n",
       "      <td>0.0</td>\n",
       "      <td>4472.000000</td>\n",
       "      <td>318.000000</td>\n",
       "      <td>291.000000</td>\n",
       "      <td>425.000000</td>\n",
       "      <td>261.000000</td>\n",
       "      <td>414.000000</td>\n",
       "    </tr>\n",
       "  </tbody>\n",
       "</table>\n",
       "</div>"
      ],
      "text/plain": [
       "          view_count    like_count  dislike_count  love_count    fire_count  \\\n",
       "count   20143.000000  20143.000000   20143.000000     20143.0  20143.000000   \n",
       "mean    18628.387132     34.523060       8.666038         0.0      2.714640   \n",
       "std     18708.543548     38.110126      20.184422         0.0     50.023114   \n",
       "min       422.000000      0.000000       0.000000         0.0      0.000000   \n",
       "25%     14117.000000     15.000000       0.000000         0.0      0.000000   \n",
       "50%     16160.000000     24.000000       2.000000         0.0      0.000000   \n",
       "75%     18440.500000     39.000000       8.000000         0.0      1.000000   \n",
       "max    633451.000000    782.000000     439.000000         0.0   4472.000000   \n",
       "\n",
       "        happy_count  shocked_count     sad_count   party_count  \\\n",
       "count  20143.000000   20143.000000  20143.000000  20143.000000   \n",
       "mean       7.655215       3.473663      3.154843      0.686889   \n",
       "std       17.931356      10.204443     14.021856      4.043676   \n",
       "min        0.000000       0.000000      0.000000      0.000000   \n",
       "25%        0.000000       0.000000      0.000000      0.000000   \n",
       "50%        1.000000       0.000000      0.000000      0.000000   \n",
       "75%        6.000000       2.000000      0.000000      0.000000   \n",
       "max      318.000000     291.000000    425.000000    261.000000   \n",
       "\n",
       "       star_eyes_count  \n",
       "count     20143.000000  \n",
       "mean          0.964057  \n",
       "std           4.912995  \n",
       "min           0.000000  \n",
       "25%           0.000000  \n",
       "50%           0.000000  \n",
       "75%           0.000000  \n",
       "max         414.000000  "
      ]
     },
     "execution_count": 5,
     "metadata": {},
     "output_type": "execute_result"
    }
   ],
   "source": [
    "df.describe()"
   ]
  },
  {
   "cell_type": "code",
   "execution_count": 6,
   "id": "9a2e5fc6",
   "metadata": {
    "execution": {
     "iopub.execute_input": "2023-05-02T16:17:15.211730Z",
     "iopub.status.busy": "2023-05-02T16:17:15.211339Z",
     "iopub.status.idle": "2023-05-02T16:17:15.223695Z",
     "shell.execute_reply": "2023-05-02T16:17:15.222486Z"
    },
    "jupyter": {
     "outputs_hidden": false
    },
    "papermill": {
     "duration": 0.026468,
     "end_time": "2023-05-02T16:17:15.226189",
     "exception": false,
     "start_time": "2023-05-02T16:17:15.199721",
     "status": "completed"
    },
    "tags": []
   },
   "outputs": [],
   "source": [
    "df['date'] = pd.to_datetime(df['date'])"
   ]
  },
  {
   "cell_type": "code",
   "execution_count": 7,
   "id": "69e7c261",
   "metadata": {
    "execution": {
     "iopub.execute_input": "2023-05-02T16:17:15.249226Z",
     "iopub.status.busy": "2023-05-02T16:17:15.248430Z",
     "iopub.status.idle": "2023-05-02T16:17:15.491348Z",
     "shell.execute_reply": "2023-05-02T16:17:15.489702Z"
    },
    "jupyter": {
     "outputs_hidden": false
    },
    "papermill": {
     "duration": 0.25946,
     "end_time": "2023-05-02T16:17:15.496234",
     "exception": false,
     "start_time": "2023-05-02T16:17:15.236774",
     "status": "completed"
    },
    "tags": []
   },
   "outputs": [
    {
     "data": {
      "image/png": "[encoded data removed]",
      "text/plain": [
       "<Figure size 640x480 with 1 Axes>"
      ]
     },
     "metadata": {},
     "output_type": "display_data"
    }
   ],
   "source": [
    "emoji_counts = [df['like_count'].sum(),\n",
    "                df['dislike_count'].sum(),\n",
    "                df['love_count'].sum(),\n",
    "                df['fire_count'].sum(),\n",
    "                df['happy_count'].sum(),\n",
    "                df['shocked_count'].sum(),\n",
    "                df['sad_count'].sum(),\n",
    "                df['party_count'].sum(),\n",
    "                df['star_eyes_count'].sum(),\n",
    "                ]\n",
    "\n",
    "emoji_labels = ['Like', 'Dislike', 'Love', 'Fire', 'Happy', 'Shocked', 'Sad', 'Party', 'Star eyes', ]\n",
    "\n",
    "plt.pie(emoji_counts, labels=emoji_labels, autopct='%1.1f%%')\n",
    "plt.title('Distribution of Reactions')\n",
    "plt.show()"
   ]
  },
  {
   "cell_type": "markdown",
   "id": "61d6c61c",
   "metadata": {
    "papermill": {
     "duration": 0.011366,
     "end_time": "2023-05-02T16:17:15.529599",
     "exception": false,
     "start_time": "2023-05-02T16:17:15.518233",
     "status": "completed"
    },
    "tags": []
   },
   "source": [
    "# Data cleaning"
   ]
  },
  {
   "cell_type": "code",
   "execution_count": 8,
   "id": "2e060450",
   "metadata": {
    "execution": {
     "iopub.execute_input": "2023-05-02T16:17:15.553929Z",
     "iopub.status.busy": "2023-05-02T16:17:15.553203Z",
     "iopub.status.idle": "2023-05-02T16:17:15.569308Z",
     "shell.execute_reply": "2023-05-02T16:17:15.568504Z"
    },
    "jupyter": {
     "outputs_hidden": false
    },
    "papermill": {
     "duration": 0.030751,
     "end_time": "2023-05-02T16:17:15.571348",
     "exception": false,
     "start_time": "2023-05-02T16:17:15.540597",
     "status": "completed"
    },
    "tags": []
   },
   "outputs": [
    {
     "data": {
      "text/html": [
       "<div>\n",
       "<style scoped>\n",
       "    .dataframe tbody tr th:only-of-type {\n",
       "        vertical-align: middle;\n",
       "    }\n",
       "\n",
       "    .dataframe tbody tr th {\n",
       "        vertical-align: top;\n",
       "    }\n",
       "\n",
       "    .dataframe thead th {\n",
       "        text-align: right;\n",
       "    }\n",
       "</style>\n",
       "<table border=\"1\" class=\"dataframe\">\n",
       "  <thead>\n",
       "    <tr style=\"text-align: right;\">\n",
       "      <th></th>\n",
       "      <th>text</th>\n",
       "      <th>date</th>\n",
       "      <th>view_count</th>\n",
       "      <th>like_count</th>\n",
       "      <th>dislike_count</th>\n",
       "      <th>love_count</th>\n",
       "      <th>fire_count</th>\n",
       "      <th>happy_count</th>\n",
       "      <th>shocked_count</th>\n",
       "      <th>sad_count</th>\n",
       "      <th>party_count</th>\n",
       "      <th>star_eyes_count</th>\n",
       "      <th>total_reactions</th>\n",
       "    </tr>\n",
       "  </thead>\n",
       "  <tbody>\n",
       "    <tr>\n",
       "      <th>0</th>\n",
       "      <td>Xitoy kompaniyasi Toshkentdagi 30 ta yirik kor...</td>\n",
       "      <td>2023-05-02 12:46:01</td>\n",
       "      <td>422</td>\n",
       "      <td>0</td>\n",
       "      <td>0</td>\n",
       "      <td>0</td>\n",
       "      <td>0</td>\n",
       "      <td>0</td>\n",
       "      <td>0</td>\n",
       "      <td>0</td>\n",
       "      <td>0</td>\n",
       "      <td>0</td>\n",
       "      <td>0</td>\n",
       "    </tr>\n",
       "    <tr>\n",
       "      <th>1</th>\n",
       "      <td>Finlyandiya o‘z hududida Amerika harbiy bazasi...</td>\n",
       "      <td>2023-05-02 12:31:58</td>\n",
       "      <td>2236</td>\n",
       "      <td>7</td>\n",
       "      <td>13</td>\n",
       "      <td>0</td>\n",
       "      <td>0</td>\n",
       "      <td>3</td>\n",
       "      <td>0</td>\n",
       "      <td>0</td>\n",
       "      <td>0</td>\n",
       "      <td>0</td>\n",
       "      <td>23</td>\n",
       "    </tr>\n",
       "    <tr>\n",
       "      <th>2</th>\n",
       "      <td>Namangan viloyati hokimiga birinchi o‘rinbosar...</td>\n",
       "      <td>2023-05-02 12:15:52</td>\n",
       "      <td>3626</td>\n",
       "      <td>3</td>\n",
       "      <td>5</td>\n",
       "      <td>0</td>\n",
       "      <td>0</td>\n",
       "      <td>0</td>\n",
       "      <td>0</td>\n",
       "      <td>0</td>\n",
       "      <td>0</td>\n",
       "      <td>0</td>\n",
       "      <td>8</td>\n",
       "    </tr>\n",
       "    <tr>\n",
       "      <th>3</th>\n",
       "      <td>Bolgariya Bosh prokurori Ivan Geshevning hayot...</td>\n",
       "      <td>2023-05-02 12:02:00</td>\n",
       "      <td>4482</td>\n",
       "      <td>9</td>\n",
       "      <td>2</td>\n",
       "      <td>0</td>\n",
       "      <td>0</td>\n",
       "      <td>0</td>\n",
       "      <td>0</td>\n",
       "      <td>0</td>\n",
       "      <td>0</td>\n",
       "      <td>0</td>\n",
       "      <td>11</td>\n",
       "    </tr>\n",
       "    <tr>\n",
       "      <th>4</th>\n",
       "      <td>\"PSJ\" Messining o'rniga bir nechta nomzodlar k...</td>\n",
       "      <td>2023-05-02 11:45:48</td>\n",
       "      <td>5952</td>\n",
       "      <td>15</td>\n",
       "      <td>0</td>\n",
       "      <td>0</td>\n",
       "      <td>0</td>\n",
       "      <td>26</td>\n",
       "      <td>0</td>\n",
       "      <td>0</td>\n",
       "      <td>0</td>\n",
       "      <td>0</td>\n",
       "      <td>41</td>\n",
       "    </tr>\n",
       "  </tbody>\n",
       "</table>\n",
       "</div>"
      ],
      "text/plain": [
       "                                                text                date  \\\n",
       "0  Xitoy kompaniyasi Toshkentdagi 30 ta yirik kor... 2023-05-02 12:46:01   \n",
       "1  Finlyandiya o‘z hududida Amerika harbiy bazasi... 2023-05-02 12:31:58   \n",
       "2  Namangan viloyati hokimiga birinchi o‘rinbosar... 2023-05-02 12:15:52   \n",
       "3  Bolgariya Bosh prokurori Ivan Geshevning hayot... 2023-05-02 12:02:00   \n",
       "4  \"PSJ\" Messining o'rniga bir nechta nomzodlar k... 2023-05-02 11:45:48   \n",
       "\n",
       "   view_count  like_count  dislike_count  love_count  fire_count  happy_count  \\\n",
       "0         422           0              0           0           0            0   \n",
       "1        2236           7             13           0           0            3   \n",
       "2        3626           3              5           0           0            0   \n",
       "3        4482           9              2           0           0            0   \n",
       "4        5952          15              0           0           0           26   \n",
       "\n",
       "   shocked_count  sad_count  party_count  star_eyes_count  total_reactions  \n",
       "0              0          0            0                0                0  \n",
       "1              0          0            0                0               23  \n",
       "2              0          0            0                0                8  \n",
       "3              0          0            0                0               11  \n",
       "4              0          0            0                0               41  "
      ]
     },
     "execution_count": 8,
     "metadata": {},
     "output_type": "execute_result"
    }
   ],
   "source": [
    "df['total_reactions'] = df['like_count'] + df['dislike_count'] + df['love_count'] + df['fire_count'] + df[\n",
    "    'happy_count'] + df['shocked_count'] + df['sad_count'] + df['party_count'] + df['star_eyes_count']\n",
    "\n",
    "df.head()"
   ]
  },
  {
   "cell_type": "code",
   "execution_count": 9,
   "id": "66b4fe59",
   "metadata": {
    "execution": {
     "iopub.execute_input": "2023-05-02T16:17:15.597353Z",
     "iopub.status.busy": "2023-05-02T16:17:15.596625Z",
     "iopub.status.idle": "2023-05-02T16:17:15.615302Z",
     "shell.execute_reply": "2023-05-02T16:17:15.614228Z"
    },
    "jupyter": {
     "outputs_hidden": false
    },
    "papermill": {
     "duration": 0.034402,
     "end_time": "2023-05-02T16:17:15.617844",
     "exception": false,
     "start_time": "2023-05-02T16:17:15.583442",
     "status": "completed"
    },
    "tags": []
   },
   "outputs": [
    {
     "data": {
      "text/plain": [
       "text               318\n",
       "date               326\n",
       "view_count         323\n",
       "like_count          10\n",
       "dislike_count        6\n",
       "love_count           1\n",
       "fire_count           5\n",
       "happy_count          3\n",
       "shocked_count        6\n",
       "sad_count            5\n",
       "party_count          2\n",
       "star_eyes_count      4\n",
       "total_reactions     10\n",
       "dtype: int64"
      ]
     },
     "execution_count": 9,
     "metadata": {},
     "output_type": "execute_result"
    }
   ],
   "source": [
    "zero_reactions = df[df['total_reactions'] < 10]\n",
    "zero_reactions.nunique()"
   ]
  },
  {
   "cell_type": "code",
   "execution_count": 10,
   "id": "eb0f3a3e",
   "metadata": {
    "execution": {
     "iopub.execute_input": "2023-05-02T16:17:15.643625Z",
     "iopub.status.busy": "2023-05-02T16:17:15.643186Z",
     "iopub.status.idle": "2023-05-02T16:17:15.657726Z",
     "shell.execute_reply": "2023-05-02T16:17:15.656985Z"
    },
    "jupyter": {
     "outputs_hidden": false
    },
    "papermill": {
     "duration": 0.030024,
     "end_time": "2023-05-02T16:17:15.659984",
     "exception": false,
     "start_time": "2023-05-02T16:17:15.629960",
     "status": "completed"
    },
    "tags": []
   },
   "outputs": [
    {
     "data": {
      "text/plain": [
       "text               0\n",
       "date               0\n",
       "view_count         0\n",
       "like_count         0\n",
       "dislike_count      0\n",
       "love_count         0\n",
       "fire_count         0\n",
       "happy_count        0\n",
       "shocked_count      0\n",
       "sad_count          0\n",
       "party_count        0\n",
       "star_eyes_count    0\n",
       "total_reactions    0\n",
       "dtype: int64"
      ]
     },
     "execution_count": 10,
     "metadata": {},
     "output_type": "execute_result"
    }
   ],
   "source": [
    "df.isna().sum()"
   ]
  },
  {
   "cell_type": "code",
   "execution_count": 11,
   "id": "8a1b75e4",
   "metadata": {
    "execution": {
     "iopub.execute_input": "2023-05-02T16:17:15.686835Z",
     "iopub.status.busy": "2023-05-02T16:17:15.686426Z",
     "iopub.status.idle": "2023-05-02T16:17:15.800090Z",
     "shell.execute_reply": "2023-05-02T16:17:15.799046Z"
    },
    "jupyter": {
     "outputs_hidden": false
    },
    "papermill": {
     "duration": 0.12946,
     "end_time": "2023-05-02T16:17:15.802619",
     "exception": false,
     "start_time": "2023-05-02T16:17:15.673159",
     "status": "completed"
    },
    "tags": []
   },
   "outputs": [
    {
     "data": {
      "text/html": [
       "<div>\n",
       "<style scoped>\n",
       "    .dataframe tbody tr th:only-of-type {\n",
       "        vertical-align: middle;\n",
       "    }\n",
       "\n",
       "    .dataframe tbody tr th {\n",
       "        vertical-align: top;\n",
       "    }\n",
       "\n",
       "    .dataframe thead th {\n",
       "        text-align: right;\n",
       "    }\n",
       "</style>\n",
       "<table border=\"1\" class=\"dataframe\">\n",
       "  <thead>\n",
       "    <tr style=\"text-align: right;\">\n",
       "      <th></th>\n",
       "      <th>text</th>\n",
       "      <th>date</th>\n",
       "      <th>view_count</th>\n",
       "      <th>like_count</th>\n",
       "      <th>dislike_count</th>\n",
       "      <th>love_count</th>\n",
       "      <th>fire_count</th>\n",
       "      <th>happy_count</th>\n",
       "      <th>shocked_count</th>\n",
       "      <th>sad_count</th>\n",
       "      <th>party_count</th>\n",
       "      <th>star_eyes_count</th>\n",
       "      <th>total_reactions</th>\n",
       "    </tr>\n",
       "  </thead>\n",
       "  <tbody>\n",
       "    <tr>\n",
       "      <th>46</th>\n",
       "      <td>Haj tadbirini tashkil etish vazifasi sayyohlik...</td>\n",
       "      <td>2023-05-01 15:00:37</td>\n",
       "      <td>10856</td>\n",
       "      <td>19</td>\n",
       "      <td>1</td>\n",
       "      <td>0</td>\n",
       "      <td>0</td>\n",
       "      <td>3</td>\n",
       "      <td>0</td>\n",
       "      <td>0</td>\n",
       "      <td>0</td>\n",
       "      <td>0</td>\n",
       "      <td>23</td>\n",
       "    </tr>\n",
       "    <tr>\n",
       "      <th>171</th>\n",
       "      <td>Avant PIR sendvich panellari: binolarni qurish...</td>\n",
       "      <td>2023-04-28 18:00:30</td>\n",
       "      <td>10866</td>\n",
       "      <td>8</td>\n",
       "      <td>0</td>\n",
       "      <td>0</td>\n",
       "      <td>0</td>\n",
       "      <td>0</td>\n",
       "      <td>0</td>\n",
       "      <td>0</td>\n",
       "      <td>0</td>\n",
       "      <td>0</td>\n",
       "      <td>8</td>\n",
       "    </tr>\n",
       "    <tr>\n",
       "      <th>349</th>\n",
       "      <td>Shivaki multi-split tizimlari: yuqori samarali...</td>\n",
       "      <td>2023-04-22 18:31:19</td>\n",
       "      <td>21497</td>\n",
       "      <td>31</td>\n",
       "      <td>0</td>\n",
       "      <td>0</td>\n",
       "      <td>0</td>\n",
       "      <td>3</td>\n",
       "      <td>0</td>\n",
       "      <td>0</td>\n",
       "      <td>0</td>\n",
       "      <td>0</td>\n",
       "      <td>34</td>\n",
       "    </tr>\n",
       "    <tr>\n",
       "      <th>452</th>\n",
       "      <td>Muloqot imkoniyatlarini kengaytiring. Chunki \"...</td>\n",
       "      <td>2023-04-19 15:59:59</td>\n",
       "      <td>7890</td>\n",
       "      <td>14</td>\n",
       "      <td>0</td>\n",
       "      <td>0</td>\n",
       "      <td>0</td>\n",
       "      <td>0</td>\n",
       "      <td>0</td>\n",
       "      <td>0</td>\n",
       "      <td>0</td>\n",
       "      <td>0</td>\n",
       "      <td>14</td>\n",
       "    </tr>\n",
       "    <tr>\n",
       "      <th>776</th>\n",
       "      <td>2021-yilda 25 yoshgacha bo‘lgan yoshlarni ishg...</td>\n",
       "      <td>2023-04-11 17:05:56</td>\n",
       "      <td>9136</td>\n",
       "      <td>6</td>\n",
       "      <td>3</td>\n",
       "      <td>0</td>\n",
       "      <td>1</td>\n",
       "      <td>0</td>\n",
       "      <td>0</td>\n",
       "      <td>0</td>\n",
       "      <td>0</td>\n",
       "      <td>0</td>\n",
       "      <td>10</td>\n",
       "    </tr>\n",
       "    <tr>\n",
       "      <th>...</th>\n",
       "      <td>...</td>\n",
       "      <td>...</td>\n",
       "      <td>...</td>\n",
       "      <td>...</td>\n",
       "      <td>...</td>\n",
       "      <td>...</td>\n",
       "      <td>...</td>\n",
       "      <td>...</td>\n",
       "      <td>...</td>\n",
       "      <td>...</td>\n",
       "      <td>...</td>\n",
       "      <td>...</td>\n",
       "      <td>...</td>\n",
       "    </tr>\n",
       "    <tr>\n",
       "      <th>19744</th>\n",
       "      <td>🚴‍♀️🚴🚴‍♂️ Eurosport’da O‘zbekistonning “Tashke...</td>\n",
       "      <td>2022-01-20 17:45:37</td>\n",
       "      <td>18589</td>\n",
       "      <td>13</td>\n",
       "      <td>0</td>\n",
       "      <td>0</td>\n",
       "      <td>3</td>\n",
       "      <td>6</td>\n",
       "      <td>1</td>\n",
       "      <td>0</td>\n",
       "      <td>0</td>\n",
       "      <td>0</td>\n",
       "      <td>23</td>\n",
       "    </tr>\n",
       "    <tr>\n",
       "      <th>19986</th>\n",
       "      <td>Minerva City'dan mega aksiyaga asosan 3 xonali...</td>\n",
       "      <td>2022-01-05 18:00:18</td>\n",
       "      <td>17459</td>\n",
       "      <td>7</td>\n",
       "      <td>14</td>\n",
       "      <td>0</td>\n",
       "      <td>0</td>\n",
       "      <td>2</td>\n",
       "      <td>4</td>\n",
       "      <td>0</td>\n",
       "      <td>5</td>\n",
       "      <td>0</td>\n",
       "      <td>32</td>\n",
       "    </tr>\n",
       "    <tr>\n",
       "      <th>20036</th>\n",
       "      <td>Baxtli boshlanishlar maskani - yangi yilda! Ha...</td>\n",
       "      <td>2021-12-29 16:29:56</td>\n",
       "      <td>18195</td>\n",
       "      <td>1</td>\n",
       "      <td>0</td>\n",
       "      <td>0</td>\n",
       "      <td>0</td>\n",
       "      <td>0</td>\n",
       "      <td>0</td>\n",
       "      <td>0</td>\n",
       "      <td>0</td>\n",
       "      <td>0</td>\n",
       "      <td>1</td>\n",
       "    </tr>\n",
       "    <tr>\n",
       "      <th>20049</th>\n",
       "      <td>MIMAR GROUP ISHGA TAKLIF QILADI\\n\\nYirik quril...</td>\n",
       "      <td>2021-12-27 15:00:57</td>\n",
       "      <td>20113</td>\n",
       "      <td>2</td>\n",
       "      <td>0</td>\n",
       "      <td>0</td>\n",
       "      <td>0</td>\n",
       "      <td>0</td>\n",
       "      <td>0</td>\n",
       "      <td>0</td>\n",
       "      <td>0</td>\n",
       "      <td>0</td>\n",
       "      <td>2</td>\n",
       "    </tr>\n",
       "    <tr>\n",
       "      <th>20086</th>\n",
       "      <td>Minerva City “Mening uyim” aksiyasini boshladi...</td>\n",
       "      <td>2021-12-12 16:01:19</td>\n",
       "      <td>23661</td>\n",
       "      <td>1</td>\n",
       "      <td>0</td>\n",
       "      <td>0</td>\n",
       "      <td>0</td>\n",
       "      <td>0</td>\n",
       "      <td>0</td>\n",
       "      <td>0</td>\n",
       "      <td>0</td>\n",
       "      <td>0</td>\n",
       "      <td>1</td>\n",
       "    </tr>\n",
       "  </tbody>\n",
       "</table>\n",
       "<p>75 rows × 13 columns</p>\n",
       "</div>"
      ],
      "text/plain": [
       "                                                    text                date  \\\n",
       "46     Haj tadbirini tashkil etish vazifasi sayyohlik... 2023-05-01 15:00:37   \n",
       "171    Avant PIR sendvich panellari: binolarni qurish... 2023-04-28 18:00:30   \n",
       "349    Shivaki multi-split tizimlari: yuqori samarali... 2023-04-22 18:31:19   \n",
       "452    Muloqot imkoniyatlarini kengaytiring. Chunki \"... 2023-04-19 15:59:59   \n",
       "776    2021-yilda 25 yoshgacha bo‘lgan yoshlarni ishg... 2023-04-11 17:05:56   \n",
       "...                                                  ...                 ...   \n",
       "19744  🚴‍♀️🚴🚴‍♂️ Eurosport’da O‘zbekistonning “Tashke... 2022-01-20 17:45:37   \n",
       "19986  Minerva City'dan mega aksiyaga asosan 3 xonali... 2022-01-05 18:00:18   \n",
       "20036  Baxtli boshlanishlar maskani - yangi yilda! Ha... 2021-12-29 16:29:56   \n",
       "20049  MIMAR GROUP ISHGA TAKLIF QILADI\\n\\nYirik quril... 2021-12-27 15:00:57   \n",
       "20086  Minerva City “Mening uyim” aksiyasini boshladi... 2021-12-12 16:01:19   \n",
       "\n",
       "       view_count  like_count  dislike_count  love_count  fire_count  \\\n",
       "46          10856          19              1           0           0   \n",
       "171         10866           8              0           0           0   \n",
       "349         21497          31              0           0           0   \n",
       "452          7890          14              0           0           0   \n",
       "776          9136           6              3           0           1   \n",
       "...           ...         ...            ...         ...         ...   \n",
       "19744       18589          13              0           0           3   \n",
       "19986       17459           7             14           0           0   \n",
       "20036       18195           1              0           0           0   \n",
       "20049       20113           2              0           0           0   \n",
       "20086       23661           1              0           0           0   \n",
       "\n",
       "       happy_count  shocked_count  sad_count  party_count  star_eyes_count  \\\n",
       "46               3              0          0            0                0   \n",
       "171              0              0          0            0                0   \n",
       "349              3              0          0            0                0   \n",
       "452              0              0          0            0                0   \n",
       "776              0              0          0            0                0   \n",
       "...            ...            ...        ...          ...              ...   \n",
       "19744            6              1          0            0                0   \n",
       "19986            2              4          0            5                0   \n",
       "20036            0              0          0            0                0   \n",
       "20049            0              0          0            0                0   \n",
       "20086            0              0          0            0                0   \n",
       "\n",
       "       total_reactions  \n",
       "46                  23  \n",
       "171                  8  \n",
       "349                 34  \n",
       "452                 14  \n",
       "776                 10  \n",
       "...                ...  \n",
       "19744               23  \n",
       "19986               32  \n",
       "20036                1  \n",
       "20049                2  \n",
       "20086                1  \n",
       "\n",
       "[75 rows x 13 columns]"
      ]
     },
     "execution_count": 11,
     "metadata": {},
     "output_type": "execute_result"
    }
   ],
   "source": [
    "df[df['text'].str.contains('reklama', case=False)]"
   ]
  },
  {
   "cell_type": "code",
   "execution_count": 12,
   "id": "60870008",
   "metadata": {
    "execution": {
     "iopub.execute_input": "2023-05-02T16:17:15.828988Z",
     "iopub.status.busy": "2023-05-02T16:17:15.828042Z",
     "iopub.status.idle": "2023-05-02T16:17:15.885893Z",
     "shell.execute_reply": "2023-05-02T16:17:15.884944Z"
    },
    "jupyter": {
     "outputs_hidden": false
    },
    "papermill": {
     "duration": 0.073733,
     "end_time": "2023-05-02T16:17:15.888494",
     "exception": false,
     "start_time": "2023-05-02T16:17:15.814761",
     "status": "completed"
    },
    "tags": []
   },
   "outputs": [],
   "source": [
    "df.loc[df['text'].str.contains('reklama', na=False), 'promotional'] = 'yes'\n",
    "df.loc[~df['text'].str.contains('reklama', na=False), 'promotional'] = 'no'"
   ]
  },
  {
   "cell_type": "code",
   "execution_count": 13,
   "id": "05387df8",
   "metadata": {
    "execution": {
     "iopub.execute_input": "2023-05-02T16:17:15.915524Z",
     "iopub.status.busy": "2023-05-02T16:17:15.914682Z",
     "iopub.status.idle": "2023-05-02T16:17:15.931396Z",
     "shell.execute_reply": "2023-05-02T16:17:15.930593Z"
    },
    "jupyter": {
     "outputs_hidden": false
    },
    "papermill": {
     "duration": 0.032641,
     "end_time": "2023-05-02T16:17:15.933688",
     "exception": false,
     "start_time": "2023-05-02T16:17:15.901047",
     "status": "completed"
    },
    "tags": []
   },
   "outputs": [
    {
     "data": {
      "text/html": [
       "<div>\n",
       "<style scoped>\n",
       "    .dataframe tbody tr th:only-of-type {\n",
       "        vertical-align: middle;\n",
       "    }\n",
       "\n",
       "    .dataframe tbody tr th {\n",
       "        vertical-align: top;\n",
       "    }\n",
       "\n",
       "    .dataframe thead th {\n",
       "        text-align: right;\n",
       "    }\n",
       "</style>\n",
       "<table border=\"1\" class=\"dataframe\">\n",
       "  <thead>\n",
       "    <tr style=\"text-align: right;\">\n",
       "      <th></th>\n",
       "      <th>text</th>\n",
       "      <th>date</th>\n",
       "      <th>view_count</th>\n",
       "      <th>like_count</th>\n",
       "      <th>dislike_count</th>\n",
       "      <th>love_count</th>\n",
       "      <th>fire_count</th>\n",
       "      <th>happy_count</th>\n",
       "      <th>shocked_count</th>\n",
       "      <th>sad_count</th>\n",
       "      <th>party_count</th>\n",
       "      <th>star_eyes_count</th>\n",
       "      <th>total_reactions</th>\n",
       "      <th>promotional</th>\n",
       "    </tr>\n",
       "  </thead>\n",
       "  <tbody>\n",
       "    <tr>\n",
       "      <th>2288</th>\n",
       "      <td>Oʻzbekistondagi xususiy maktablarda 5 mingdan ...</td>\n",
       "      <td>2023-03-12 14:01:16</td>\n",
       "      <td>13324</td>\n",
       "      <td>11</td>\n",
       "      <td>0</td>\n",
       "      <td>0</td>\n",
       "      <td>1</td>\n",
       "      <td>0</td>\n",
       "      <td>0</td>\n",
       "      <td>0</td>\n",
       "      <td>0</td>\n",
       "      <td>0</td>\n",
       "      <td>12</td>\n",
       "      <td>no</td>\n",
       "    </tr>\n",
       "    <tr>\n",
       "      <th>7670</th>\n",
       "      <td>Toshkentda Lacetti Nexia-3 bilan to‘qnashib, o...</td>\n",
       "      <td>2022-12-04 16:30:48</td>\n",
       "      <td>23856</td>\n",
       "      <td>32</td>\n",
       "      <td>9</td>\n",
       "      <td>0</td>\n",
       "      <td>0</td>\n",
       "      <td>0</td>\n",
       "      <td>8</td>\n",
       "      <td>69</td>\n",
       "      <td>2</td>\n",
       "      <td>0</td>\n",
       "      <td>120</td>\n",
       "      <td>no</td>\n",
       "    </tr>\n",
       "    <tr>\n",
       "      <th>9435</th>\n",
       "      <td>Toshkentda 2,5 mlrd so‘mlik imtiyozli kredit m...</td>\n",
       "      <td>2022-11-04 15:14:50</td>\n",
       "      <td>16224</td>\n",
       "      <td>23</td>\n",
       "      <td>0</td>\n",
       "      <td>0</td>\n",
       "      <td>0</td>\n",
       "      <td>11</td>\n",
       "      <td>0</td>\n",
       "      <td>0</td>\n",
       "      <td>0</td>\n",
       "      <td>1</td>\n",
       "      <td>35</td>\n",
       "      <td>no</td>\n",
       "    </tr>\n",
       "    <tr>\n",
       "      <th>1749</th>\n",
       "      <td>Yana to‘rt mamlakatda vabo epidemiyasi qayd et...</td>\n",
       "      <td>2023-03-23 14:01:29</td>\n",
       "      <td>12111</td>\n",
       "      <td>10</td>\n",
       "      <td>36</td>\n",
       "      <td>0</td>\n",
       "      <td>0</td>\n",
       "      <td>0</td>\n",
       "      <td>12</td>\n",
       "      <td>16</td>\n",
       "      <td>0</td>\n",
       "      <td>0</td>\n",
       "      <td>74</td>\n",
       "      <td>no</td>\n",
       "    </tr>\n",
       "    <tr>\n",
       "      <th>18833</th>\n",
       "      <td>TURON AVTO multibrendli avtosaloni eng manfaat...</td>\n",
       "      <td>2022-03-02 14:28:35</td>\n",
       "      <td>18684</td>\n",
       "      <td>13</td>\n",
       "      <td>0</td>\n",
       "      <td>0</td>\n",
       "      <td>0</td>\n",
       "      <td>1</td>\n",
       "      <td>0</td>\n",
       "      <td>0</td>\n",
       "      <td>0</td>\n",
       "      <td>0</td>\n",
       "      <td>14</td>\n",
       "      <td>no</td>\n",
       "    </tr>\n",
       "  </tbody>\n",
       "</table>\n",
       "</div>"
      ],
      "text/plain": [
       "                                                    text                date  \\\n",
       "2288   Oʻzbekistondagi xususiy maktablarda 5 mingdan ... 2023-03-12 14:01:16   \n",
       "7670   Toshkentda Lacetti Nexia-3 bilan to‘qnashib, o... 2022-12-04 16:30:48   \n",
       "9435   Toshkentda 2,5 mlrd so‘mlik imtiyozli kredit m... 2022-11-04 15:14:50   \n",
       "1749   Yana to‘rt mamlakatda vabo epidemiyasi qayd et... 2023-03-23 14:01:29   \n",
       "18833  TURON AVTO multibrendli avtosaloni eng manfaat... 2022-03-02 14:28:35   \n",
       "\n",
       "       view_count  like_count  dislike_count  love_count  fire_count  \\\n",
       "2288        13324          11              0           0           1   \n",
       "7670        23856          32              9           0           0   \n",
       "9435        16224          23              0           0           0   \n",
       "1749        12111          10             36           0           0   \n",
       "18833       18684          13              0           0           0   \n",
       "\n",
       "       happy_count  shocked_count  sad_count  party_count  star_eyes_count  \\\n",
       "2288             0              0          0            0                0   \n",
       "7670             0              8         69            2                0   \n",
       "9435            11              0          0            0                1   \n",
       "1749             0             12         16            0                0   \n",
       "18833            1              0          0            0                0   \n",
       "\n",
       "       total_reactions promotional  \n",
       "2288                12          no  \n",
       "7670               120          no  \n",
       "9435                35          no  \n",
       "1749                74          no  \n",
       "18833               14          no  "
      ]
     },
     "execution_count": 13,
     "metadata": {},
     "output_type": "execute_result"
    }
   ],
   "source": [
    "df.sample(5)"
   ]
  },
  {
   "cell_type": "code",
   "execution_count": 14,
   "id": "36cf0c97",
   "metadata": {
    "execution": {
     "iopub.execute_input": "2023-05-02T16:17:15.961427Z",
     "iopub.status.busy": "2023-05-02T16:17:15.961046Z",
     "iopub.status.idle": "2023-05-02T16:17:15.983103Z",
     "shell.execute_reply": "2023-05-02T16:17:15.981973Z"
    },
    "jupyter": {
     "outputs_hidden": false
    },
    "papermill": {
     "duration": 0.039048,
     "end_time": "2023-05-02T16:17:15.985600",
     "exception": false,
     "start_time": "2023-05-02T16:17:15.946552",
     "status": "completed"
    },
    "tags": []
   },
   "outputs": [
    {
     "data": {
      "text/html": [
       "<div>\n",
       "<style scoped>\n",
       "    .dataframe tbody tr th:only-of-type {\n",
       "        vertical-align: middle;\n",
       "    }\n",
       "\n",
       "    .dataframe tbody tr th {\n",
       "        vertical-align: top;\n",
       "    }\n",
       "\n",
       "    .dataframe thead th {\n",
       "        text-align: right;\n",
       "    }\n",
       "</style>\n",
       "<table border=\"1\" class=\"dataframe\">\n",
       "  <thead>\n",
       "    <tr style=\"text-align: right;\">\n",
       "      <th></th>\n",
       "      <th>text</th>\n",
       "      <th>date</th>\n",
       "      <th>view_count</th>\n",
       "      <th>like_count</th>\n",
       "      <th>dislike_count</th>\n",
       "      <th>love_count</th>\n",
       "      <th>fire_count</th>\n",
       "      <th>happy_count</th>\n",
       "      <th>shocked_count</th>\n",
       "      <th>sad_count</th>\n",
       "      <th>party_count</th>\n",
       "      <th>star_eyes_count</th>\n",
       "      <th>total_reactions</th>\n",
       "      <th>promotional</th>\n",
       "    </tr>\n",
       "  </thead>\n",
       "  <tbody>\n",
       "    <tr>\n",
       "      <th>0</th>\n",
       "      <td>Xitoy kompaniyasi Toshkentdagi 30 ta yirik kor...</td>\n",
       "      <td>2023-05-02 12:46:01</td>\n",
       "      <td>422</td>\n",
       "      <td>0</td>\n",
       "      <td>0</td>\n",
       "      <td>0</td>\n",
       "      <td>0</td>\n",
       "      <td>0</td>\n",
       "      <td>0</td>\n",
       "      <td>0</td>\n",
       "      <td>0</td>\n",
       "      <td>0</td>\n",
       "      <td>0</td>\n",
       "      <td>no</td>\n",
       "    </tr>\n",
       "    <tr>\n",
       "      <th>2</th>\n",
       "      <td>Namangan viloyati hokimiga birinchi o‘rinbosar...</td>\n",
       "      <td>2023-05-02 12:15:52</td>\n",
       "      <td>3626</td>\n",
       "      <td>3</td>\n",
       "      <td>5</td>\n",
       "      <td>0</td>\n",
       "      <td>0</td>\n",
       "      <td>0</td>\n",
       "      <td>0</td>\n",
       "      <td>0</td>\n",
       "      <td>0</td>\n",
       "      <td>0</td>\n",
       "      <td>8</td>\n",
       "      <td>no</td>\n",
       "    </tr>\n",
       "    <tr>\n",
       "      <th>7</th>\n",
       "      <td>Toshkentda isitish tarmoqlari issiq suv ta’min...</td>\n",
       "      <td>2023-05-02 11:00:52</td>\n",
       "      <td>7017</td>\n",
       "      <td>9</td>\n",
       "      <td>0</td>\n",
       "      <td>0</td>\n",
       "      <td>0</td>\n",
       "      <td>0</td>\n",
       "      <td>0</td>\n",
       "      <td>0</td>\n",
       "      <td>0</td>\n",
       "      <td>0</td>\n",
       "      <td>9</td>\n",
       "      <td>no</td>\n",
       "    </tr>\n",
       "    <tr>\n",
       "      <th>64</th>\n",
       "      <td>Anons\\nSeshanba soat 21:30 da Uzreport tvda \"F...</td>\n",
       "      <td>2023-05-01 08:36:02</td>\n",
       "      <td>14760</td>\n",
       "      <td>6</td>\n",
       "      <td>2</td>\n",
       "      <td>0</td>\n",
       "      <td>0</td>\n",
       "      <td>0</td>\n",
       "      <td>0</td>\n",
       "      <td>0</td>\n",
       "      <td>0</td>\n",
       "      <td>0</td>\n",
       "      <td>8</td>\n",
       "      <td>no</td>\n",
       "    </tr>\n",
       "    <tr>\n",
       "      <th>171</th>\n",
       "      <td>Avant PIR sendvich panellari: binolarni qurish...</td>\n",
       "      <td>2023-04-28 18:00:30</td>\n",
       "      <td>10866</td>\n",
       "      <td>8</td>\n",
       "      <td>0</td>\n",
       "      <td>0</td>\n",
       "      <td>0</td>\n",
       "      <td>0</td>\n",
       "      <td>0</td>\n",
       "      <td>0</td>\n",
       "      <td>0</td>\n",
       "      <td>0</td>\n",
       "      <td>8</td>\n",
       "      <td>no</td>\n",
       "    </tr>\n",
       "    <tr>\n",
       "      <th>...</th>\n",
       "      <td>...</td>\n",
       "      <td>...</td>\n",
       "      <td>...</td>\n",
       "      <td>...</td>\n",
       "      <td>...</td>\n",
       "      <td>...</td>\n",
       "      <td>...</td>\n",
       "      <td>...</td>\n",
       "      <td>...</td>\n",
       "      <td>...</td>\n",
       "      <td>...</td>\n",
       "      <td>...</td>\n",
       "      <td>...</td>\n",
       "      <td>...</td>\n",
       "    </tr>\n",
       "    <tr>\n",
       "      <th>20138</th>\n",
       "      <td>Kunning muhim xabarlari:\\n\\n▶️ UZREPORT TV bok...</td>\n",
       "      <td>2021-10-14 20:51:51</td>\n",
       "      <td>232597</td>\n",
       "      <td>1</td>\n",
       "      <td>0</td>\n",
       "      <td>0</td>\n",
       "      <td>0</td>\n",
       "      <td>0</td>\n",
       "      <td>0</td>\n",
       "      <td>0</td>\n",
       "      <td>0</td>\n",
       "      <td>0</td>\n",
       "      <td>1</td>\n",
       "      <td>no</td>\n",
       "    </tr>\n",
       "    <tr>\n",
       "      <th>20139</th>\n",
       "      <td>Infarkt va koronavirusni boshdan o'tkazgan 90 ...</td>\n",
       "      <td>2021-10-14 17:45:04</td>\n",
       "      <td>22158</td>\n",
       "      <td>1</td>\n",
       "      <td>0</td>\n",
       "      <td>0</td>\n",
       "      <td>0</td>\n",
       "      <td>0</td>\n",
       "      <td>0</td>\n",
       "      <td>0</td>\n",
       "      <td>0</td>\n",
       "      <td>0</td>\n",
       "      <td>1</td>\n",
       "      <td>no</td>\n",
       "    </tr>\n",
       "    <tr>\n",
       "      <th>20140</th>\n",
       "      <td>\"Yanada vatanparvarroq bo‘laylik, migrantlar h...</td>\n",
       "      <td>2021-10-14 15:41:13</td>\n",
       "      <td>17842</td>\n",
       "      <td>0</td>\n",
       "      <td>1</td>\n",
       "      <td>0</td>\n",
       "      <td>0</td>\n",
       "      <td>0</td>\n",
       "      <td>0</td>\n",
       "      <td>0</td>\n",
       "      <td>0</td>\n",
       "      <td>0</td>\n",
       "      <td>1</td>\n",
       "      <td>no</td>\n",
       "    </tr>\n",
       "    <tr>\n",
       "      <th>20141</th>\n",
       "      <td>Bundan buyon \"Muradov Professional ligasi\"ning...</td>\n",
       "      <td>2021-10-05 23:59:21</td>\n",
       "      <td>20592</td>\n",
       "      <td>0</td>\n",
       "      <td>0</td>\n",
       "      <td>0</td>\n",
       "      <td>0</td>\n",
       "      <td>0</td>\n",
       "      <td>0</td>\n",
       "      <td>1</td>\n",
       "      <td>0</td>\n",
       "      <td>0</td>\n",
       "      <td>1</td>\n",
       "      <td>no</td>\n",
       "    </tr>\n",
       "    <tr>\n",
       "      <th>20142</th>\n",
       "      <td>Endilikda O‘zbekistonda jinoyat sodir etib, ja...</td>\n",
       "      <td>2021-10-01 10:02:36</td>\n",
       "      <td>17317</td>\n",
       "      <td>1</td>\n",
       "      <td>0</td>\n",
       "      <td>0</td>\n",
       "      <td>0</td>\n",
       "      <td>0</td>\n",
       "      <td>0</td>\n",
       "      <td>0</td>\n",
       "      <td>0</td>\n",
       "      <td>0</td>\n",
       "      <td>1</td>\n",
       "      <td>no</td>\n",
       "    </tr>\n",
       "  </tbody>\n",
       "</table>\n",
       "<p>326 rows × 14 columns</p>\n",
       "</div>"
      ],
      "text/plain": [
       "                                                    text                date  \\\n",
       "0      Xitoy kompaniyasi Toshkentdagi 30 ta yirik kor... 2023-05-02 12:46:01   \n",
       "2      Namangan viloyati hokimiga birinchi o‘rinbosar... 2023-05-02 12:15:52   \n",
       "7      Toshkentda isitish tarmoqlari issiq suv ta’min... 2023-05-02 11:00:52   \n",
       "64     Anons\\nSeshanba soat 21:30 da Uzreport tvda \"F... 2023-05-01 08:36:02   \n",
       "171    Avant PIR sendvich panellari: binolarni qurish... 2023-04-28 18:00:30   \n",
       "...                                                  ...                 ...   \n",
       "20138  Kunning muhim xabarlari:\\n\\n▶️ UZREPORT TV bok... 2021-10-14 20:51:51   \n",
       "20139  Infarkt va koronavirusni boshdan o'tkazgan 90 ... 2021-10-14 17:45:04   \n",
       "20140  \"Yanada vatanparvarroq bo‘laylik, migrantlar h... 2021-10-14 15:41:13   \n",
       "20141  Bundan buyon \"Muradov Professional ligasi\"ning... 2021-10-05 23:59:21   \n",
       "20142  Endilikda O‘zbekistonda jinoyat sodir etib, ja... 2021-10-01 10:02:36   \n",
       "\n",
       "       view_count  like_count  dislike_count  love_count  fire_count  \\\n",
       "0             422           0              0           0           0   \n",
       "2            3626           3              5           0           0   \n",
       "7            7017           9              0           0           0   \n",
       "64          14760           6              2           0           0   \n",
       "171         10866           8              0           0           0   \n",
       "...           ...         ...            ...         ...         ...   \n",
       "20138      232597           1              0           0           0   \n",
       "20139       22158           1              0           0           0   \n",
       "20140       17842           0              1           0           0   \n",
       "20141       20592           0              0           0           0   \n",
       "20142       17317           1              0           0           0   \n",
       "\n",
       "       happy_count  shocked_count  sad_count  party_count  star_eyes_count  \\\n",
       "0                0              0          0            0                0   \n",
       "2                0              0          0            0                0   \n",
       "7                0              0          0            0                0   \n",
       "64               0              0          0            0                0   \n",
       "171              0              0          0            0                0   \n",
       "...            ...            ...        ...          ...              ...   \n",
       "20138            0              0          0            0                0   \n",
       "20139            0              0          0            0                0   \n",
       "20140            0              0          0            0                0   \n",
       "20141            0              0          1            0                0   \n",
       "20142            0              0          0            0                0   \n",
       "\n",
       "       total_reactions promotional  \n",
       "0                    0          no  \n",
       "2                    8          no  \n",
       "7                    9          no  \n",
       "64                   8          no  \n",
       "171                  8          no  \n",
       "...                ...         ...  \n",
       "20138                1          no  \n",
       "20139                1          no  \n",
       "20140                1          no  \n",
       "20141                1          no  \n",
       "20142                1          no  \n",
       "\n",
       "[326 rows x 14 columns]"
      ]
     },
     "execution_count": 14,
     "metadata": {},
     "output_type": "execute_result"
    }
   ],
   "source": [
    "rows_to_drop = df[(df['promotional'] == 'no') & (df['total_reactions'] <= 9)]\n",
    "rows_to_drop"
   ]
  },
  {
   "cell_type": "code",
   "execution_count": 15,
   "id": "a2976bc9",
   "metadata": {
    "execution": {
     "iopub.execute_input": "2023-05-02T16:17:16.013639Z",
     "iopub.status.busy": "2023-05-02T16:17:16.013255Z",
     "iopub.status.idle": "2023-05-02T16:17:16.020093Z",
     "shell.execute_reply": "2023-05-02T16:17:16.018859Z"
    },
    "jupyter": {
     "outputs_hidden": false
    },
    "papermill": {
     "duration": 0.023756,
     "end_time": "2023-05-02T16:17:16.022307",
     "exception": false,
     "start_time": "2023-05-02T16:17:15.998551",
     "status": "completed"
    },
    "tags": []
   },
   "outputs": [
    {
     "data": {
      "text/plain": [
       "(20143, 14)"
      ]
     },
     "execution_count": 15,
     "metadata": {},
     "output_type": "execute_result"
    }
   ],
   "source": [
    "# before dropping\n",
    "df.shape"
   ]
  },
  {
   "cell_type": "code",
   "execution_count": 16,
   "id": "d6296911",
   "metadata": {
    "execution": {
     "iopub.execute_input": "2023-05-02T16:17:16.050698Z",
     "iopub.status.busy": "2023-05-02T16:17:16.050335Z",
     "iopub.status.idle": "2023-05-02T16:17:16.063406Z",
     "shell.execute_reply": "2023-05-02T16:17:16.062396Z"
    },
    "jupyter": {
     "outputs_hidden": false
    },
    "papermill": {
     "duration": 0.029635,
     "end_time": "2023-05-02T16:17:16.065483",
     "exception": false,
     "start_time": "2023-05-02T16:17:16.035848",
     "status": "completed"
    },
    "tags": []
   },
   "outputs": [
    {
     "data": {
      "text/plain": [
       "(19817, 14)"
      ]
     },
     "execution_count": 16,
     "metadata": {},
     "output_type": "execute_result"
    }
   ],
   "source": [
    "# drop non-promotional news with total reactions less than 10\n",
    "df = df.drop(df[(df['promotional'] == 'no') & (df['total_reactions'] < 10)].index)\n",
    "# after dropping\n",
    "df.shape"
   ]
  },
  {
   "cell_type": "code",
   "execution_count": 17,
   "id": "7383f61c",
   "metadata": {
    "execution": {
     "iopub.execute_input": "2023-05-02T16:17:16.094665Z",
     "iopub.status.busy": "2023-05-02T16:17:16.094264Z",
     "iopub.status.idle": "2023-05-02T16:17:16.104854Z",
     "shell.execute_reply": "2023-05-02T16:17:16.103755Z"
    },
    "jupyter": {
     "outputs_hidden": false
    },
    "papermill": {
     "duration": 0.027775,
     "end_time": "2023-05-02T16:17:16.107119",
     "exception": false,
     "start_time": "2023-05-02T16:17:16.079344",
     "status": "completed"
    },
    "tags": []
   },
   "outputs": [
    {
     "data": {
      "text/plain": [
       "no     19774\n",
       "yes       43\n",
       "Name: promotional, dtype: int64"
      ]
     },
     "execution_count": 17,
     "metadata": {},
     "output_type": "execute_result"
    }
   ],
   "source": [
    "df['promotional'].value_counts()"
   ]
  },
  {
   "cell_type": "markdown",
   "id": "1758df97",
   "metadata": {
    "papermill": {
     "duration": 0.013396,
     "end_time": "2023-05-02T16:17:16.134463",
     "exception": false,
     "start_time": "2023-05-02T16:17:16.121067",
     "status": "completed"
    },
    "tags": []
   },
   "source": [
    "# Data labeling"
   ]
  },
  {
   "cell_type": "code",
   "execution_count": 18,
   "id": "0cd9b89c",
   "metadata": {},
   "outputs": [],
   "source": [
    "# # initial weights\n",
    "# weights = {\n",
    "#     'like': 1,\n",
    "#     'dislike': -1,\n",
    "#     'love': 2,\n",
    "#     'fire': 1.5,\n",
    "#     'happy': 1.5,\n",
    "#     'shocked': -1.5,\n",
    "#     'sad': -1.5,\n",
    "#     'party': 1,\n",
    "#     'star_eyes': 0.5,\n",
    "# }\n",
    "\n",
    "# Original weights from study\n",
    "# weights = {\n",
    "#     'like': 0.521,\n",
    "#     'dislike': -0.188,\n",
    "#     'love': 0.746,\n",
    "#     'fire': 0.139,\n",
    "#     'happy': 0.449,\n",
    "#     'shocked': 0.190,\n",
    "#     'sad': 0.007,\n",
    "#     'party': 0.738,\n",
    "#     'star_eyes': 0.678,\n",
    "# }\n",
    "\n",
    "# weights with opposite values (like <-> dislike, happy <-> sad)\n",
    "weights = {\n",
    "    'like': 0.521,\n",
    "    'dislike': -0.521,\n",
    "    'love': 0.746,\n",
    "    'fire': 0.139,\n",
    "    'happy': 0.449,\n",
    "    'shocked': 0.190,\n",
    "    'sad': -0.449,\n",
    "    'party': 0.738,\n",
    "    'star_eyes': 0.678,\n",
    "}"
   ]
  },
  {
   "cell_type": "code",
   "execution_count": 19,
   "id": "91d6520c",
   "metadata": {},
   "outputs": [
    {
     "name": "stdout",
     "output_type": "stream",
     "text": [
      "Max value: 0.6812343750000001\n",
      "Min value:  -0.505679012345679\n",
      "Length:  (19817, 15)\n"
     ]
    },
    {
     "data": {
      "text/html": [
       "<div>\n",
       "<style scoped>\n",
       "    .dataframe tbody tr th:only-of-type {\n",
       "        vertical-align: middle;\n",
       "    }\n",
       "\n",
       "    .dataframe tbody tr th {\n",
       "        vertical-align: top;\n",
       "    }\n",
       "\n",
       "    .dataframe thead th {\n",
       "        text-align: right;\n",
       "    }\n",
       "</style>\n",
       "<table border=\"1\" class=\"dataframe\">\n",
       "  <thead>\n",
       "    <tr style=\"text-align: right;\">\n",
       "      <th></th>\n",
       "      <th>like</th>\n",
       "      <th>dislike</th>\n",
       "      <th>love</th>\n",
       "      <th>fire</th>\n",
       "      <th>happy</th>\n",
       "      <th>shocked</th>\n",
       "      <th>sad</th>\n",
       "      <th>party</th>\n",
       "      <th>star_eyes</th>\n",
       "    </tr>\n",
       "  </thead>\n",
       "  <tbody>\n",
       "    <tr>\n",
       "      <th>1</th>\n",
       "      <td>3.647</td>\n",
       "      <td>-6.773</td>\n",
       "      <td>0.0</td>\n",
       "      <td>0.000</td>\n",
       "      <td>1.347</td>\n",
       "      <td>0.00</td>\n",
       "      <td>-0.000</td>\n",
       "      <td>0.0</td>\n",
       "      <td>0.000</td>\n",
       "    </tr>\n",
       "    <tr>\n",
       "      <th>3</th>\n",
       "      <td>4.689</td>\n",
       "      <td>-1.042</td>\n",
       "      <td>0.0</td>\n",
       "      <td>0.000</td>\n",
       "      <td>0.000</td>\n",
       "      <td>0.00</td>\n",
       "      <td>-0.000</td>\n",
       "      <td>0.0</td>\n",
       "      <td>0.000</td>\n",
       "    </tr>\n",
       "    <tr>\n",
       "      <th>4</th>\n",
       "      <td>7.815</td>\n",
       "      <td>-0.000</td>\n",
       "      <td>0.0</td>\n",
       "      <td>0.000</td>\n",
       "      <td>11.674</td>\n",
       "      <td>0.00</td>\n",
       "      <td>-0.000</td>\n",
       "      <td>0.0</td>\n",
       "      <td>0.000</td>\n",
       "    </tr>\n",
       "    <tr>\n",
       "      <th>5</th>\n",
       "      <td>0.521</td>\n",
       "      <td>-14.067</td>\n",
       "      <td>0.0</td>\n",
       "      <td>0.000</td>\n",
       "      <td>0.449</td>\n",
       "      <td>0.00</td>\n",
       "      <td>-0.000</td>\n",
       "      <td>0.0</td>\n",
       "      <td>0.000</td>\n",
       "    </tr>\n",
       "    <tr>\n",
       "      <th>6</th>\n",
       "      <td>6.252</td>\n",
       "      <td>-1.563</td>\n",
       "      <td>0.0</td>\n",
       "      <td>0.000</td>\n",
       "      <td>0.000</td>\n",
       "      <td>0.19</td>\n",
       "      <td>-0.000</td>\n",
       "      <td>0.0</td>\n",
       "      <td>0.000</td>\n",
       "    </tr>\n",
       "    <tr>\n",
       "      <th>...</th>\n",
       "      <td>...</td>\n",
       "      <td>...</td>\n",
       "      <td>...</td>\n",
       "      <td>...</td>\n",
       "      <td>...</td>\n",
       "      <td>...</td>\n",
       "      <td>...</td>\n",
       "      <td>...</td>\n",
       "      <td>...</td>\n",
       "    </tr>\n",
       "    <tr>\n",
       "      <th>20018</th>\n",
       "      <td>5.731</td>\n",
       "      <td>-1.042</td>\n",
       "      <td>0.0</td>\n",
       "      <td>0.278</td>\n",
       "      <td>0.000</td>\n",
       "      <td>1.71</td>\n",
       "      <td>-4.041</td>\n",
       "      <td>0.0</td>\n",
       "      <td>0.000</td>\n",
       "    </tr>\n",
       "    <tr>\n",
       "      <th>20019</th>\n",
       "      <td>7.815</td>\n",
       "      <td>-8.857</td>\n",
       "      <td>0.0</td>\n",
       "      <td>0.000</td>\n",
       "      <td>0.000</td>\n",
       "      <td>0.00</td>\n",
       "      <td>-0.000</td>\n",
       "      <td>0.0</td>\n",
       "      <td>0.000</td>\n",
       "    </tr>\n",
       "    <tr>\n",
       "      <th>20020</th>\n",
       "      <td>16.151</td>\n",
       "      <td>-0.521</td>\n",
       "      <td>0.0</td>\n",
       "      <td>0.000</td>\n",
       "      <td>0.000</td>\n",
       "      <td>0.00</td>\n",
       "      <td>-0.898</td>\n",
       "      <td>0.0</td>\n",
       "      <td>2.712</td>\n",
       "    </tr>\n",
       "    <tr>\n",
       "      <th>20021</th>\n",
       "      <td>5.210</td>\n",
       "      <td>-0.000</td>\n",
       "      <td>0.0</td>\n",
       "      <td>0.000</td>\n",
       "      <td>0.000</td>\n",
       "      <td>0.00</td>\n",
       "      <td>-0.000</td>\n",
       "      <td>0.0</td>\n",
       "      <td>0.678</td>\n",
       "    </tr>\n",
       "    <tr>\n",
       "      <th>20022</th>\n",
       "      <td>1.042</td>\n",
       "      <td>-3.647</td>\n",
       "      <td>0.0</td>\n",
       "      <td>0.417</td>\n",
       "      <td>0.449</td>\n",
       "      <td>0.19</td>\n",
       "      <td>-0.000</td>\n",
       "      <td>0.0</td>\n",
       "      <td>0.000</td>\n",
       "    </tr>\n",
       "  </tbody>\n",
       "</table>\n",
       "<p>19817 rows × 9 columns</p>\n",
       "</div>"
      ],
      "text/plain": [
       "         like  dislike  love   fire   happy  shocked    sad  party  star_eyes\n",
       "1       3.647   -6.773   0.0  0.000   1.347     0.00 -0.000    0.0      0.000\n",
       "3       4.689   -1.042   0.0  0.000   0.000     0.00 -0.000    0.0      0.000\n",
       "4       7.815   -0.000   0.0  0.000  11.674     0.00 -0.000    0.0      0.000\n",
       "5       0.521  -14.067   0.0  0.000   0.449     0.00 -0.000    0.0      0.000\n",
       "6       6.252   -1.563   0.0  0.000   0.000     0.19 -0.000    0.0      0.000\n",
       "...       ...      ...   ...    ...     ...      ...    ...    ...        ...\n",
       "20018   5.731   -1.042   0.0  0.278   0.000     1.71 -4.041    0.0      0.000\n",
       "20019   7.815   -8.857   0.0  0.000   0.000     0.00 -0.000    0.0      0.000\n",
       "20020  16.151   -0.521   0.0  0.000   0.000     0.00 -0.898    0.0      2.712\n",
       "20021   5.210   -0.000   0.0  0.000   0.000     0.00 -0.000    0.0      0.678\n",
       "20022   1.042   -3.647   0.0  0.417   0.449     0.19 -0.000    0.0      0.000\n",
       "\n",
       "[19817 rows x 9 columns]"
      ]
     },
     "execution_count": 19,
     "metadata": {},
     "output_type": "execute_result"
    }
   ],
   "source": [
    "import numpy as np\n",
    "import pandas as pd\n",
    "\n",
    "# Assuming df and weights are already defined\n",
    "reaction_types = ['like', 'dislike', 'love', 'fire', 'happy', 'shocked', 'sad', 'party', 'star_eyes']\n",
    "\n",
    "# Apply logarithmic transformation and multiply by weights\n",
    "weighted_reactions = pd.DataFrame()\n",
    "for reaction in reaction_types:\n",
    "#     Calculation with logarithm\n",
    "#     condition = df[f'{reaction}_count'].astype(float) > 0\n",
    "#     weighted_reactions[reaction] = np.where(condition, np.log(df[f'{reaction}_count'].astype(float) + 1) * weights[reaction], 0)\n",
    "    condition = df[f'{reaction}_count'].astype(float) > 0\n",
    "    weighted_reactions[reaction] = df[f'{reaction}_count'] * weights[reaction]\n",
    "      \n",
    "        \n",
    "weighted_sums = weighted_reactions.sum(axis=1)\n",
    "filtered_df = df[df['total_reactions'].astype(float) != 0]\n",
    "filtered_df['total_weighted_reactions'] = weighted_sums / filtered_df['total_reactions']\n",
    "\n",
    "\n",
    "print(\"Max value:\", filtered_df['total_weighted_reactions'].max())\n",
    "print(\"Min value: \", filtered_df['total_weighted_reactions'].min())  \n",
    "print(\"Shape: \", filtered_df.shape)   \n",
    "weighted_reactions\n"
   ]
  },
  {
   "cell_type": "code",
   "execution_count": 22,
   "id": "3329ffdb",
   "metadata": {},
   "outputs": [
    {
     "name": "stdout",
     "output_type": "stream",
     "text": [
      "neutral     9334\n",
      "positive    8064\n",
      "negative    2419\n",
      "Name: sentiment, dtype: int64\n"
     ]
    }
   ],
   "source": [
    "# define the threshold values\n",
    "positive_threshold = 0.44\n",
    "negative_threshold = 0\n",
    "\n",
    "# cassify the sentiment based on the total weighted reactions\n",
    "filtered_df['sentiment'] = filtered_df['total_weighted_reactions'].apply(\n",
    "    lambda x: 'positive' if x >= positive_threshold else ('negative' if x <= negative_threshold else 'neutral'))\n",
    "\n",
    "print(filtered_df['sentiment'].value_counts())"
   ]
  },
  {
   "cell_type": "markdown",
   "id": "870c750e",
   "metadata": {},
   "source": [
    "### Samples "
   ]
  },
  {
   "cell_type": "code",
   "execution_count": null,
   "id": "4d4558e3",
   "metadata": {
    "execution": {
     "iopub.execute_input": "2023-05-02T16:17:16.163297Z",
     "iopub.status.busy": "2023-05-02T16:17:16.162548Z",
     "iopub.status.idle": "2023-05-02T16:17:16.184749Z",
     "shell.execute_reply": "2023-05-02T16:17:16.183428Z"
    },
    "jupyter": {
     "outputs_hidden": false
    },
    "papermill": {
     "duration": 0.039194,
     "end_time": "2023-05-02T16:17:16.186967",
     "exception": false,
     "start_time": "2023-05-02T16:17:16.147773",
     "status": "completed"
    },
    "tags": []
   },
   "outputs": [],
   "source": [
    "# For not ruining later code\n",
    "df =filtered_df\n",
    "df"
   ]
  },
  {
   "cell_type": "code",
   "execution_count": null,
   "id": "f689e1df",
   "metadata": {
    "execution": {
     "iopub.execute_input": "2023-05-02T16:17:16.215893Z",
     "iopub.status.busy": "2023-05-02T16:17:16.215464Z",
     "iopub.status.idle": "2023-05-02T16:17:16.242967Z",
     "shell.execute_reply": "2023-05-02T16:17:16.241863Z"
    },
    "jupyter": {
     "outputs_hidden": false
    },
    "papermill": {
     "duration": 0.044715,
     "end_time": "2023-05-02T16:17:16.245216",
     "exception": false,
     "start_time": "2023-05-02T16:17:16.200501",
     "status": "completed"
    },
    "tags": []
   },
   "outputs": [],
   "source": [
    "df[df['sentiment'] == 'neutral']"
   ]
  },
  {
   "cell_type": "code",
   "execution_count": null,
   "id": "15459eaa",
   "metadata": {
    "execution": {
     "iopub.execute_input": "2023-05-02T16:17:16.275701Z",
     "iopub.status.busy": "2023-05-02T16:17:16.275345Z",
     "iopub.status.idle": "2023-05-02T16:17:16.300152Z",
     "shell.execute_reply": "2023-05-02T16:17:16.298965Z"
    },
    "jupyter": {
     "outputs_hidden": false
    },
    "papermill": {
     "duration": 0.043083,
     "end_time": "2023-05-02T16:17:16.302598",
     "exception": false,
     "start_time": "2023-05-02T16:17:16.259515",
     "status": "completed"
    },
    "tags": []
   },
   "outputs": [],
   "source": [
    "df[df['sentiment'] == 'positive']"
   ]
  },
  {
   "cell_type": "code",
   "execution_count": null,
   "id": "ed395691",
   "metadata": {
    "execution": {
     "iopub.execute_input": "2023-05-02T16:17:16.334214Z",
     "iopub.status.busy": "2023-05-02T16:17:16.333310Z",
     "iopub.status.idle": "2023-05-02T16:17:16.359469Z",
     "shell.execute_reply": "2023-05-02T16:17:16.358288Z"
    },
    "jupyter": {
     "outputs_hidden": false
    },
    "papermill": {
     "duration": 0.04438,
     "end_time": "2023-05-02T16:17:16.361556",
     "exception": false,
     "start_time": "2023-05-02T16:17:16.317176",
     "status": "completed"
    },
    "tags": []
   },
   "outputs": [],
   "source": [
    "df[df['sentiment'] == 'negative']"
   ]
  },
  {
   "cell_type": "code",
   "execution_count": null,
   "id": "50b0e483",
   "metadata": {
    "execution": {
     "iopub.execute_input": "2023-05-02T16:17:16.393578Z",
     "iopub.status.busy": "2023-05-02T16:17:16.393150Z",
     "iopub.status.idle": "2023-05-02T16:17:16.690322Z",
     "shell.execute_reply": "2023-05-02T16:17:16.689233Z"
    },
    "jupyter": {
     "outputs_hidden": false
    },
    "papermill": {
     "duration": 0.316199,
     "end_time": "2023-05-02T16:17:16.692759",
     "exception": false,
     "start_time": "2023-05-02T16:17:16.376560",
     "status": "completed"
    },
    "tags": []
   },
   "outputs": [],
   "source": [
    "df['sentiment'].value_counts().plot(kind='bar');"
   ]
  },
  {
   "cell_type": "code",
   "execution_count": null,
   "id": "03de3d4d",
   "metadata": {
    "execution": {
     "iopub.execute_input": "2023-05-02T16:17:16.726421Z",
     "iopub.status.busy": "2023-05-02T16:17:16.726037Z",
     "iopub.status.idle": "2023-05-02T16:17:16.736460Z",
     "shell.execute_reply": "2023-05-02T16:17:16.735193Z"
    },
    "jupyter": {
     "outputs_hidden": false
    },
    "papermill": {
     "duration": 0.030859,
     "end_time": "2023-05-02T16:17:16.739548",
     "exception": false,
     "start_time": "2023-05-02T16:17:16.708689",
     "status": "completed"
    },
    "tags": []
   },
   "outputs": [],
   "source": [
    "# just drop neutral rows as we only have 87 of such\n",
    "df = df[df['sentiment'] != 'neutral']"
   ]
  },
  {
   "cell_type": "code",
   "execution_count": null,
   "id": "13564d49",
   "metadata": {
    "execution": {
     "iopub.execute_input": "2023-05-02T16:17:16.773482Z",
     "iopub.status.busy": "2023-05-02T16:17:16.772723Z",
     "iopub.status.idle": "2023-05-02T16:17:17.002581Z",
     "shell.execute_reply": "2023-05-02T16:17:17.001445Z"
    },
    "jupyter": {
     "outputs_hidden": false
    },
    "papermill": {
     "duration": 0.249334,
     "end_time": "2023-05-02T16:17:17.005106",
     "exception": false,
     "start_time": "2023-05-02T16:17:16.755772",
     "status": "completed"
    },
    "tags": []
   },
   "outputs": [],
   "source": [
    "df['sentiment'].value_counts().plot(kind='bar');"
   ]
  },
  {
   "cell_type": "code",
   "execution_count": null,
   "id": "19319acb",
   "metadata": {
    "execution": {
     "iopub.execute_input": "2023-05-02T16:17:17.038955Z",
     "iopub.status.busy": "2023-05-02T16:17:17.038537Z",
     "iopub.status.idle": "2023-05-02T16:17:17.045884Z",
     "shell.execute_reply": "2023-05-02T16:17:17.045030Z"
    },
    "jupyter": {
     "outputs_hidden": false
    },
    "papermill": {
     "duration": 0.026871,
     "end_time": "2023-05-02T16:17:17.048031",
     "exception": false,
     "start_time": "2023-05-02T16:17:17.021160",
     "status": "completed"
    },
    "tags": []
   },
   "outputs": [],
   "source": [
    "# remove temp created column\n",
    "df = df.drop(['total_weighted_reactions'], axis=1)"
   ]
  },
  {
   "cell_type": "code",
   "execution_count": null,
   "id": "b73280b7",
   "metadata": {
    "execution": {
     "iopub.execute_input": "2023-05-02T16:17:17.082259Z",
     "iopub.status.busy": "2023-05-02T16:17:17.081295Z",
     "iopub.status.idle": "2023-05-02T16:17:17.098398Z",
     "shell.execute_reply": "2023-05-02T16:17:17.097297Z"
    },
    "jupyter": {
     "outputs_hidden": false
    },
    "papermill": {
     "duration": 0.03651,
     "end_time": "2023-05-02T16:17:17.100638",
     "exception": false,
     "start_time": "2023-05-02T16:17:17.064128",
     "status": "completed"
    },
    "tags": []
   },
   "outputs": [],
   "source": [
    "df.sample(5)"
   ]
  },
  {
   "cell_type": "code",
   "execution_count": null,
   "id": "56907d8f",
   "metadata": {
    "execution": {
     "iopub.execute_input": "2023-05-02T16:17:17.136031Z",
     "iopub.status.busy": "2023-05-02T16:17:17.135031Z",
     "iopub.status.idle": "2023-05-02T16:17:17.148041Z",
     "shell.execute_reply": "2023-05-02T16:17:17.146818Z"
    },
    "jupyter": {
     "outputs_hidden": false
    },
    "papermill": {
     "duration": 0.033942,
     "end_time": "2023-05-02T16:17:17.151220",
     "exception": false,
     "start_time": "2023-05-02T16:17:17.117278",
     "status": "completed"
    },
    "tags": []
   },
   "outputs": [],
   "source": [
    "df_filtered = df[(df['promotional'] == 'no')]\n",
    "\n",
    "random_texts = df_filtered.sample(n=20, random_state=42)['text']\n",
    "for text in random_texts:\n",
    "    print(text)\n",
    "    print('------------')"
   ]
  },
  {
   "cell_type": "code",
   "execution_count": null,
   "id": "645d02e8",
   "metadata": {
    "execution": {
     "iopub.execute_input": "2023-05-02T16:17:17.186991Z",
     "iopub.status.busy": "2023-05-02T16:17:17.186217Z",
     "iopub.status.idle": "2023-05-02T16:17:17.420260Z",
     "shell.execute_reply": "2023-05-02T16:17:17.418773Z"
    },
    "jupyter": {
     "outputs_hidden": false
    },
    "papermill": {
     "duration": 0.254616,
     "end_time": "2023-05-02T16:17:17.422614",
     "exception": false,
     "start_time": "2023-05-02T16:17:17.167998",
     "status": "completed"
    },
    "tags": []
   },
   "outputs": [],
   "source": [
    "# analyze most common patterns\n",
    "username_mentions = df['text'].str.contains('@uzreport_uz').sum()\n",
    "batafsil_mentions = df['text'].str.contains('Batafsil 👉|To‘liq  👉').sum()\n",
    "yuklab_olish_mentions = df['text'].str.contains('yuklab olish').sum()\n",
    "media_mentions = df['text'].str.contains(\"Facebook'da ko'rish|YouTube'da ko'rish|UzReport rasmiy sahifalari\").sum()\n",
    "questions_mentions = df['text'].str.contains(\"Savollaringizni @Muborak_Oy_bot orqali jo‘natishingiz mumkin|@Muborak_Oy_bot\").sum()\n",
    "\n",
    "print(f'Username mentions: {username_mentions}')\n",
    "print(f'Batafsil mentions: {batafsil_mentions}')\n",
    "print(f'Yuklab olish mentions: {yuklab_olish_mentions}')\n",
    "print(f'Media mentions: {media_mentions}')\n",
    "print(f'Questions mentions: {questions_mentions}')"
   ]
  },
  {
   "cell_type": "code",
   "execution_count": null,
   "id": "b47b8a0b",
   "metadata": {
    "execution": {
     "iopub.execute_input": "2023-05-02T16:17:17.458561Z",
     "iopub.status.busy": "2023-05-02T16:17:17.457674Z",
     "iopub.status.idle": "2023-05-02T16:17:17.464359Z",
     "shell.execute_reply": "2023-05-02T16:17:17.463178Z"
    },
    "jupyter": {
     "outputs_hidden": false
    },
    "papermill": {
     "duration": 0.027025,
     "end_time": "2023-05-02T16:17:17.466497",
     "exception": false,
     "start_time": "2023-05-02T16:17:17.439472",
     "status": "completed"
    },
    "tags": []
   },
   "outputs": [],
   "source": [
    "def clean_text(text):\n",
    "    patterns = r'@uzreport_uz|Batafsil 👉|To‘liq  👉|yuklab olish|Facebook\\'da ko\\'rish|YouTube\\'da ko\\'rish|UzReport rasmiy sahifalari|Savollaringizni @Muborak_Oy_bot orqali jo‘natishingiz mumkin|@Muborak_Oy_bot'\n",
    "    emoji_pattern = re.compile(\"[\"\n",
    "                               u\"\\U0001F600-\\U0001F64F\"  # emoticons\n",
    "                               u\"\\U0001F300-\\U0001F5FF\"  # symbols & pictographs\n",
    "                               u\"\\U0001F680-\\U0001F6FF\"  # transport & map symbols\n",
    "                               u\"\\U0001F1E0-\\U0001F1FF\"  # flags\n",
    "                               u\"\\U00002702-\\U000027B0\"\n",
    "                               u\"\\U000024C2-\\U0001F251\"\n",
    "                               \"]+\", flags=re.UNICODE)\n",
    "    text = re.sub(patterns, '', text)\n",
    "    text = emoji_pattern.sub(r'', text)\n",
    "    return text"
   ]
  },
  {
   "cell_type": "code",
   "execution_count": null,
   "id": "04bf94f2",
   "metadata": {
    "execution": {
     "iopub.execute_input": "2023-05-02T16:17:17.502667Z",
     "iopub.status.busy": "2023-05-02T16:17:17.501825Z",
     "iopub.status.idle": "2023-05-02T16:17:17.507583Z",
     "shell.execute_reply": "2023-05-02T16:17:17.506465Z"
    },
    "jupyter": {
     "outputs_hidden": false
    },
    "papermill": {
     "duration": 0.026128,
     "end_time": "2023-05-02T16:17:17.509820",
     "exception": false,
     "start_time": "2023-05-02T16:17:17.483692",
     "status": "completed"
    },
    "tags": []
   },
   "outputs": [],
   "source": [
    "smpl_txt = df.iloc[4]['text']"
   ]
  },
  {
   "cell_type": "code",
   "execution_count": null,
   "id": "162a78a6",
   "metadata": {
    "execution": {
     "iopub.execute_input": "2023-05-02T16:17:17.546055Z",
     "iopub.status.busy": "2023-05-02T16:17:17.545621Z",
     "iopub.status.idle": "2023-05-02T16:17:17.556977Z",
     "shell.execute_reply": "2023-05-02T16:17:17.555701Z"
    },
    "jupyter": {
     "outputs_hidden": false
    },
    "papermill": {
     "duration": 0.032287,
     "end_time": "2023-05-02T16:17:17.559140",
     "exception": false,
     "start_time": "2023-05-02T16:17:17.526853",
     "status": "completed"
    },
    "tags": []
   },
   "outputs": [],
   "source": [
    "clean_text(smpl_txt)"
   ]
  },
  {
   "cell_type": "code",
   "execution_count": null,
   "id": "5ec3f4e1",
   "metadata": {
    "execution": {
     "iopub.execute_input": "2023-05-02T16:17:17.596425Z",
     "iopub.status.busy": "2023-05-02T16:17:17.596029Z",
     "iopub.status.idle": "2023-05-02T16:17:17.918196Z",
     "shell.execute_reply": "2023-05-02T16:17:17.917000Z"
    },
    "jupyter": {
     "outputs_hidden": false
    },
    "papermill": {
     "duration": 0.344536,
     "end_time": "2023-05-02T16:17:17.920982",
     "exception": false,
     "start_time": "2023-05-02T16:17:17.576446",
     "status": "completed"
    },
    "tags": []
   },
   "outputs": [],
   "source": [
    "df['cleaned_text'] = df['text'].apply(clean_text)"
   ]
  },
  {
   "cell_type": "code",
   "execution_count": null,
   "id": "cf8e225f",
   "metadata": {
    "execution": {
     "iopub.execute_input": "2023-05-02T16:17:17.957994Z",
     "iopub.status.busy": "2023-05-02T16:17:17.957540Z",
     "iopub.status.idle": "2023-05-02T16:17:17.979466Z",
     "shell.execute_reply": "2023-05-02T16:17:17.978383Z"
    },
    "jupyter": {
     "outputs_hidden": false
    },
    "papermill": {
     "duration": 0.042938,
     "end_time": "2023-05-02T16:17:17.981874",
     "exception": false,
     "start_time": "2023-05-02T16:17:17.938936",
     "status": "completed"
    },
    "tags": []
   },
   "outputs": [],
   "source": [
    "df.sample(5)"
   ]
  },
  {
   "cell_type": "code",
   "execution_count": null,
   "id": "429a6241",
   "metadata": {
    "execution": {
     "iopub.execute_input": "2023-05-02T16:17:18.019123Z",
     "iopub.status.busy": "2023-05-02T16:17:18.018671Z",
     "iopub.status.idle": "2023-05-02T16:17:18.278952Z",
     "shell.execute_reply": "2023-05-02T16:17:18.277699Z"
    },
    "jupyter": {
     "outputs_hidden": false
    },
    "papermill": {
     "duration": 0.282038,
     "end_time": "2023-05-02T16:17:18.281559",
     "exception": false,
     "start_time": "2023-05-02T16:17:17.999521",
     "status": "completed"
    },
    "tags": []
   },
   "outputs": [],
   "source": [
    "df['cleaned_text'].str.len().plot(kind='hist');"
   ]
  },
  {
   "cell_type": "code",
   "execution_count": null,
   "id": "aa34925b",
   "metadata": {
    "execution": {
     "iopub.execute_input": "2023-05-02T16:17:18.319390Z",
     "iopub.status.busy": "2023-05-02T16:17:18.318934Z",
     "iopub.status.idle": "2023-05-02T16:17:18.342648Z",
     "shell.execute_reply": "2023-05-02T16:17:18.341296Z"
    },
    "jupyter": {
     "outputs_hidden": false
    },
    "papermill": {
     "duration": 0.045406,
     "end_time": "2023-05-02T16:17:18.344948",
     "exception": false,
     "start_time": "2023-05-02T16:17:18.299542",
     "status": "completed"
    },
    "tags": []
   },
   "outputs": [],
   "source": [
    "df['length'] = df['cleaned_text'].str.len()\n",
    "print(df['length'].describe())"
   ]
  },
  {
   "cell_type": "code",
   "execution_count": null,
   "id": "e425cc78",
   "metadata": {
    "execution": {
     "iopub.execute_input": "2023-05-02T16:17:18.383254Z",
     "iopub.status.busy": "2023-05-02T16:17:18.382256Z",
     "iopub.status.idle": "2023-05-02T16:17:18.400745Z",
     "shell.execute_reply": "2023-05-02T16:17:18.399374Z"
    },
    "jupyter": {
     "outputs_hidden": false
    },
    "papermill": {
     "duration": 0.040208,
     "end_time": "2023-05-02T16:17:18.403305",
     "exception": false,
     "start_time": "2023-05-02T16:17:18.363097",
     "status": "completed"
    },
    "tags": []
   },
   "outputs": [],
   "source": [
    "long_messages = df[df['length'] > 450]['cleaned_text']\n",
    "long_messages.nunique()"
   ]
  },
  {
   "cell_type": "code",
   "execution_count": null,
   "id": "3b0aa055",
   "metadata": {
    "execution": {
     "iopub.execute_input": "2023-05-02T16:17:18.442345Z",
     "iopub.status.busy": "2023-05-02T16:17:18.441968Z",
     "iopub.status.idle": "2023-05-02T16:17:18.450861Z",
     "shell.execute_reply": "2023-05-02T16:17:18.449834Z"
    },
    "jupyter": {
     "outputs_hidden": false
    },
    "papermill": {
     "duration": 0.030545,
     "end_time": "2023-05-02T16:17:18.452866",
     "exception": false,
     "start_time": "2023-05-02T16:17:18.422321",
     "status": "completed"
    },
    "tags": []
   },
   "outputs": [],
   "source": [
    "long_messages"
   ]
  },
  {
   "cell_type": "code",
   "execution_count": null,
   "id": "380c5431",
   "metadata": {
    "execution": {
     "iopub.execute_input": "2023-05-02T16:17:18.491312Z",
     "iopub.status.busy": "2023-05-02T16:17:18.490930Z",
     "iopub.status.idle": "2023-05-02T16:17:18.520820Z",
     "shell.execute_reply": "2023-05-02T16:17:18.519787Z"
    },
    "jupyter": {
     "outputs_hidden": false
    },
    "papermill": {
     "duration": 0.051978,
     "end_time": "2023-05-02T16:17:18.523176",
     "exception": false,
     "start_time": "2023-05-02T16:17:18.471198",
     "status": "completed"
    },
    "tags": []
   },
   "outputs": [],
   "source": [
    "max_length = 450\n",
    "\n",
    "df['truncated_text'] = df['cleaned_text'].apply(lambda x: x[:max_length] if len(x) > max_length else x)\n",
    "\n",
    "truncated_df = df[df['truncated_text'] != df['cleaned_text']]\n",
    "\n",
    "truncated_df[['cleaned_text', 'truncated_text']].sample(5)"
   ]
  },
  {
   "cell_type": "code",
   "execution_count": null,
   "id": "e0348ec2",
   "metadata": {
    "execution": {
     "iopub.execute_input": "2023-05-02T16:17:18.562166Z",
     "iopub.status.busy": "2023-05-02T16:17:18.561522Z",
     "iopub.status.idle": "2023-05-02T16:17:18.820644Z",
     "shell.execute_reply": "2023-05-02T16:17:18.819314Z"
    },
    "jupyter": {
     "outputs_hidden": false
    },
    "papermill": {
     "duration": 0.281844,
     "end_time": "2023-05-02T16:17:18.823560",
     "exception": false,
     "start_time": "2023-05-02T16:17:18.541716",
     "status": "completed"
    },
    "tags": []
   },
   "outputs": [],
   "source": [
    "df['truncated_text'].str.len().plot(kind='hist');"
   ]
  },
  {
   "cell_type": "code",
   "execution_count": null,
   "id": "a2694101",
   "metadata": {
    "execution": {
     "iopub.execute_input": "2023-05-02T16:17:18.866219Z",
     "iopub.status.busy": "2023-05-02T16:17:18.865107Z",
     "iopub.status.idle": "2023-05-02T16:17:18.887620Z",
     "shell.execute_reply": "2023-05-02T16:17:18.886398Z"
    },
    "jupyter": {
     "outputs_hidden": false
    },
    "papermill": {
     "duration": 0.045973,
     "end_time": "2023-05-02T16:17:18.890197",
     "exception": false,
     "start_time": "2023-05-02T16:17:18.844224",
     "status": "completed"
    },
    "tags": []
   },
   "outputs": [],
   "source": [
    "df['length_tr'] = df['truncated_text'].str.len()\n",
    "print(df['length_tr'].describe())"
   ]
  },
  {
   "cell_type": "code",
   "execution_count": null,
   "id": "614ac70e",
   "metadata": {
    "execution": {
     "iopub.execute_input": "2023-05-02T16:17:18.930530Z",
     "iopub.status.busy": "2023-05-02T16:17:18.930100Z",
     "iopub.status.idle": "2023-05-02T16:17:18.948869Z",
     "shell.execute_reply": "2023-05-02T16:17:18.947722Z"
    },
    "jupyter": {
     "outputs_hidden": false
    },
    "papermill": {
     "duration": 0.04188,
     "end_time": "2023-05-02T16:17:18.951197",
     "exception": false,
     "start_time": "2023-05-02T16:17:18.909317",
     "status": "completed"
    },
    "tags": []
   },
   "outputs": [],
   "source": [
    "df.head()"
   ]
  },
  {
   "cell_type": "code",
   "execution_count": null,
   "id": "b015c7d5",
   "metadata": {
    "execution": {
     "iopub.execute_input": "2023-05-02T16:17:18.993839Z",
     "iopub.status.busy": "2023-05-02T16:17:18.992778Z",
     "iopub.status.idle": "2023-05-02T16:17:19.019803Z",
     "shell.execute_reply": "2023-05-02T16:17:19.018637Z"
    },
    "jupyter": {
     "outputs_hidden": false
    },
    "papermill": {
     "duration": 0.050994,
     "end_time": "2023-05-02T16:17:19.022209",
     "exception": false,
     "start_time": "2023-05-02T16:17:18.971215",
     "status": "completed"
    },
    "tags": []
   },
   "outputs": [],
   "source": [
    "# drop extra columns\n",
    "df = df.drop(columns=['length', 'cleaned_text', 'length_tr', 'text'])\n",
    "df = df.rename(columns={'truncated_text': 'text'})\n",
    "cols = df.columns.tolist()\n",
    "cols = ['text'] + cols[:-1]\n",
    "df = df[cols]\n",
    "df.head()"
   ]
  },
  {
   "cell_type": "code",
   "execution_count": null,
   "id": "702af6bf",
   "metadata": {
    "execution": {
     "iopub.execute_input": "2023-05-02T16:17:19.064766Z",
     "iopub.status.busy": "2023-05-02T16:17:19.064346Z",
     "iopub.status.idle": "2023-05-02T16:17:19.083074Z",
     "shell.execute_reply": "2023-05-02T16:17:19.081963Z"
    },
    "jupyter": {
     "outputs_hidden": false
    },
    "papermill": {
     "duration": 0.042702,
     "end_time": "2023-05-02T16:17:19.085425",
     "exception": false,
     "start_time": "2023-05-02T16:17:19.042723",
     "status": "completed"
    },
    "tags": []
   },
   "outputs": [],
   "source": [
    "df = df.reindex(columns=['text', 'date', 'sentiment', 'promotional', 'view_count', 'like_count', 'dislike_count',\n",
    "                         'love_count', 'fire_count', 'happy_count', 'shocked_count', 'sad_count', 'party_count',\n",
    "                         'star_eyes_count', 'total_reactions'])\n",
    "df.head()"
   ]
  },
  {
   "cell_type": "code",
   "execution_count": null,
   "id": "187b4b44",
   "metadata": {
    "execution": {
     "iopub.execute_input": "2023-05-02T16:17:19.127334Z",
     "iopub.status.busy": "2023-05-02T16:17:19.126895Z",
     "iopub.status.idle": "2023-05-02T16:17:19.389064Z",
     "shell.execute_reply": "2023-05-02T16:17:19.388086Z"
    },
    "jupyter": {
     "outputs_hidden": false
    },
    "papermill": {
     "duration": 0.286372,
     "end_time": "2023-05-02T16:17:19.391775",
     "exception": false,
     "start_time": "2023-05-02T16:17:19.105403",
     "status": "completed"
    },
    "tags": []
   },
   "outputs": [],
   "source": [
    "df.to_csv('uzreport_uz_cleaned_labeled.csv', index=False)"
   ]
  },
  {
   "cell_type": "code",
   "execution_count": null,
   "id": "8986942b",
   "metadata": {
    "execution": {
     "iopub.execute_input": "2023-05-02T16:17:19.434451Z",
     "iopub.status.busy": "2023-05-02T16:17:19.433511Z",
     "iopub.status.idle": "2023-05-02T16:17:19.448588Z",
     "shell.execute_reply": "2023-05-02T16:17:19.447313Z"
    },
    "jupyter": {
     "outputs_hidden": false
    },
    "papermill": {
     "duration": 0.039211,
     "end_time": "2023-05-02T16:17:19.451098",
     "exception": false,
     "start_time": "2023-05-02T16:17:19.411887",
     "status": "completed"
    },
    "tags": []
   },
   "outputs": [],
   "source": [
    "compact_df = df[['text', 'date', 'sentiment', 'promotional']]\n",
    "compact_df.head()"
   ]
  },
  {
   "cell_type": "code",
   "execution_count": null,
   "id": "2b207ee5",
   "metadata": {
    "execution": {
     "iopub.execute_input": "2023-05-02T16:17:19.493728Z",
     "iopub.status.busy": "2023-05-02T16:17:19.493355Z",
     "iopub.status.idle": "2023-05-02T16:17:19.705812Z",
     "shell.execute_reply": "2023-05-02T16:17:19.704560Z"
    },
    "jupyter": {
     "outputs_hidden": false
    },
    "papermill": {
     "duration": 0.237134,
     "end_time": "2023-05-02T16:17:19.708561",
     "exception": false,
     "start_time": "2023-05-02T16:17:19.471427",
     "status": "completed"
    },
    "tags": []
   },
   "outputs": [],
   "source": [
    "compact_df.to_csv('uzreport_uz_cleaned_labeled_compact.csv', index=False)"
   ]
  },
  {
   "cell_type": "code",
   "execution_count": null,
   "id": "335ce87e",
   "metadata": {},
   "outputs": [],
   "source": []
  }
 ],
 "metadata": {
  "kernelspec": {
   "display_name": "Python 3 (ipykernel)",
   "language": "python",
   "name": "python3"
  },
  "language_info": {
   "codemirror_mode": {
    "name": "ipython",
    "version": 3
   },
   "file_extension": ".py",
   "mimetype": "text/x-python",
   "name": "python",
   "nbconvert_exporter": "python",
   "pygments_lexer": "ipython3",
   "version": "3.11.0"
  },
  "papermill": {
   "default_parameters": {},
   "duration": 16.496412,
   "end_time": "2023-05-02T16:17:20.652926",
   "environment_variables": {},
   "exception": null,
   "input_path": "__notebook__.ipynb",
   "output_path": "__notebook__.ipynb",
   "parameters": {},
   "start_time": "2023-05-02T16:17:04.156514",
   "version": "2.4.0"
  }
 },
 "nbformat": 4,
 "nbformat_minor": 5
}
