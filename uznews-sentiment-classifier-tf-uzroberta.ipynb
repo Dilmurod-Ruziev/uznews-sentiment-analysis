{
 "cells": [
  {
   "cell_type": "markdown",
   "metadata": {},
   "source": [
    "## Importing "
   ]
  },
  {
   "cell_type": "code",
   "execution_count": 1,
   "metadata": {
    "_cell_guid": "b1076dfc-b9ad-4769-8c92-a6c4dae69d19",
    "_uuid": "8f2839f25d086af736a60e9eeb907d3b93b6e0e5",
    "execution": {
     "iopub.execute_input": "2023-04-27T11:36:47.198290Z",
     "iopub.status.busy": "2023-04-27T11:36:47.197508Z",
     "iopub.status.idle": "2023-04-27T11:36:47.204988Z",
     "shell.execute_reply": "2023-04-27T11:36:47.203610Z",
     "shell.execute_reply.started": "2023-04-27T11:36:47.198248Z"
    }
   },
   "outputs": [],
   "source": [
    "import numpy as np\n",
    "import pandas as pd\n",
    "import tensorflow as tf\n",
    "\n",
    "from sklearn import preprocessing\n",
    "from imblearn.over_sampling import RandomOverSampler\n",
    "from sklearn.model_selection import train_test_split\n",
    "\n",
    "from transformers import TFRobertaModel\n",
    "from transformers import AutoTokenizer\n",
    "\n",
    "\n",
    "import tensorflow as tf\n",
    "from tensorflow import keras\n",
    "\n",
    "from sklearn.metrics import accuracy_score, f1_score\n",
    "from sklearn.metrics import classification_report\n",
    "\n",
    "import matplotlib.pyplot as plt\n",
    "import seaborn as sns"
   ]
  },
  {
   "cell_type": "code",
   "execution_count": 2,
   "metadata": {
    "execution": {
     "iopub.execute_input": "2023-04-27T11:36:47.218695Z",
     "iopub.status.busy": "2023-04-27T11:36:47.217730Z",
     "iopub.status.idle": "2023-04-27T11:36:47.302683Z",
     "shell.execute_reply": "2023-04-27T11:36:47.301612Z",
     "shell.execute_reply.started": "2023-04-27T11:36:47.218616Z"
    }
   },
   "outputs": [
    {
     "data": {
      "text/html": [
       "<div>\n",
       "<style scoped>\n",
       "    .dataframe tbody tr th:only-of-type {\n",
       "        vertical-align: middle;\n",
       "    }\n",
       "\n",
       "    .dataframe tbody tr th {\n",
       "        vertical-align: top;\n",
       "    }\n",
       "\n",
       "    .dataframe thead th {\n",
       "        text-align: right;\n",
       "    }\n",
       "</style>\n",
       "<table border=\"1\" class=\"dataframe\">\n",
       "  <thead>\n",
       "    <tr style=\"text-align: right;\">\n",
       "      <th></th>\n",
       "      <th>text</th>\n",
       "      <th>clean_text</th>\n",
       "      <th>sentiment</th>\n",
       "    </tr>\n",
       "  </thead>\n",
       "  <tbody>\n",
       "    <tr>\n",
       "      <th>0</th>\n",
       "      <td>O'zbekiston futbol assotsiatsiyasi intizom qo'...</td>\n",
       "      <td>ozbekiston futbol assotsiatsiyasi intizom qomi...</td>\n",
       "      <td>1</td>\n",
       "    </tr>\n",
       "    <tr>\n",
       "      <th>1</th>\n",
       "      <td>Rustam Yusupov Toshkent obodonlashtirish Bosh ...</td>\n",
       "      <td>rustam yusupov toshkent obodonlashtirish bosh ...</td>\n",
       "      <td>1</td>\n",
       "    </tr>\n",
       "    <tr>\n",
       "      <th>2</th>\n",
       "      <td>Xitoyning Yutong kompaniyasi yil oxirigacha Sa...</td>\n",
       "      <td>xitoyning yutong kompaniyasi yil oxirigacha sa...</td>\n",
       "      <td>1</td>\n",
       "    </tr>\n",
       "    <tr>\n",
       "      <th>3</th>\n",
       "      <td>Samarqand viloyatida 3 gektar o'rmon xo'jaligi...</td>\n",
       "      <td>samarqand viloyatida gektar ormon xojaligi yer...</td>\n",
       "      <td>1</td>\n",
       "    </tr>\n",
       "    <tr>\n",
       "      <th>4</th>\n",
       "      <td>Andijon viloyati Xonobodda bir kishi davlat or...</td>\n",
       "      <td>andijon viloyati xonobodda bir kishi davlat or...</td>\n",
       "      <td>0</td>\n",
       "    </tr>\n",
       "  </tbody>\n",
       "</table>\n",
       "</div>"
      ],
      "text/plain": [
       "                                                text  \\\n",
       "0  O'zbekiston futbol assotsiatsiyasi intizom qo'...   \n",
       "1  Rustam Yusupov Toshkent obodonlashtirish Bosh ...   \n",
       "2  Xitoyning Yutong kompaniyasi yil oxirigacha Sa...   \n",
       "3  Samarqand viloyatida 3 gektar o'rmon xo'jaligi...   \n",
       "4  Andijon viloyati Xonobodda bir kishi davlat or...   \n",
       "\n",
       "                                          clean_text  sentiment  \n",
       "0  ozbekiston futbol assotsiatsiyasi intizom qomi...          1  \n",
       "1  rustam yusupov toshkent obodonlashtirish bosh ...          1  \n",
       "2  xitoyning yutong kompaniyasi yil oxirigacha sa...          1  \n",
       "3  samarqand viloyatida gektar ormon xojaligi yer...          1  \n",
       "4  andijon viloyati xonobodda bir kishi davlat or...          0  "
      ]
     },
     "execution_count": 2,
     "metadata": {},
     "output_type": "execute_result"
    }
   ],
   "source": [
    "filename = \"datasets/uznews_preprocessed.csv\"\n",
    "df = pd.read_csv(filename)\n",
    "df.head()"
   ]
  },
  {
   "cell_type": "markdown",
   "metadata": {},
   "source": [
    "## Class Balancing by RandomOverSampler"
   ]
  },
  {
   "cell_type": "code",
   "execution_count": null,
   "metadata": {
    "execution": {
     "iopub.execute_input": "2023-04-27T11:36:47.305307Z",
     "iopub.status.busy": "2023-04-27T11:36:47.304846Z",
     "iopub.status.idle": "2023-04-27T11:36:47.326609Z",
     "shell.execute_reply": "2023-04-27T11:36:47.325545Z",
     "shell.execute_reply.started": "2023-04-27T11:36:47.305268Z"
    }
   },
   "outputs": [],
   "source": [
    "ros = RandomOverSampler()\n",
    "train_x, train_y = ros.fit_resample(np.array(df['clean_text']).reshape(-1, 1), np.array(df['sentiment']).reshape(-1, 1));\n",
    "train_os = pd.DataFrame(list(zip([x[0] for x in train_x], train_y)), columns = ['clean_text', 'sentiment']);"
   ]
  },
  {
   "cell_type": "code",
   "execution_count": null,
   "metadata": {
    "execution": {
     "iopub.execute_input": "2023-04-27T11:36:47.328687Z",
     "iopub.status.busy": "2023-04-27T11:36:47.328130Z",
     "iopub.status.idle": "2023-04-27T11:36:47.341891Z",
     "shell.execute_reply": "2023-04-27T11:36:47.340654Z",
     "shell.execute_reply.started": "2023-04-27T11:36:47.328631Z"
    }
   },
   "outputs": [],
   "source": [
    "train_os['sentiment'].value_counts()"
   ]
  },
  {
   "cell_type": "markdown",
   "metadata": {},
   "source": [
    "## Train - Validation - Test split"
   ]
  },
  {
   "cell_type": "code",
   "execution_count": null,
   "metadata": {
    "execution": {
     "iopub.execute_input": "2023-04-27T11:36:47.346318Z",
     "iopub.status.busy": "2023-04-27T11:36:47.345313Z",
     "iopub.status.idle": "2023-04-27T11:36:47.353708Z",
     "shell.execute_reply": "2023-04-27T11:36:47.351308Z",
     "shell.execute_reply.started": "2023-04-27T11:36:47.346280Z"
    }
   },
   "outputs": [],
   "source": [
    "X = train_os['clean_text'].values\n",
    "y = train_os['sentiment'].values"
   ]
  },
  {
   "cell_type": "code",
   "execution_count": null,
   "metadata": {
    "execution": {
     "iopub.execute_input": "2023-04-27T11:36:47.356399Z",
     "iopub.status.busy": "2023-04-27T11:36:47.356067Z",
     "iopub.status.idle": "2023-04-27T11:36:47.365552Z",
     "shell.execute_reply": "2023-04-27T11:36:47.364499Z",
     "shell.execute_reply.started": "2023-04-27T11:36:47.356371Z"
    }
   },
   "outputs": [],
   "source": [
    "seed=42\n",
    "\n",
    "# split the original data into train and TEST sets\n",
    "X_train_val, X_test, y_train_val, y_test = train_test_split(X, y, test_size=0.1, random_state=seed)\n",
    "\n",
    "# split the remaining 90% of the data into train and VALIDATION sets\n",
    "X_train, X_valid, y_train, y_valid = train_test_split(X_train_val, y_train_val, test_size=0.1, random_state=seed)"
   ]
  },
  {
   "cell_type": "markdown",
   "metadata": {},
   "source": [
    "## One hot encoding"
   ]
  },
  {
   "cell_type": "code",
   "execution_count": null,
   "metadata": {
    "execution": {
     "iopub.execute_input": "2023-04-27T11:36:47.367845Z",
     "iopub.status.busy": "2023-04-27T11:36:47.366947Z",
     "iopub.status.idle": "2023-04-27T11:36:47.374247Z",
     "shell.execute_reply": "2023-04-27T11:36:47.373091Z",
     "shell.execute_reply.started": "2023-04-27T11:36:47.367803Z"
    }
   },
   "outputs": [],
   "source": [
    "y_train_le = y_train.copy()\n",
    "y_valid_le = y_valid.copy()\n",
    "y_test_le = y_test.copy()"
   ]
  },
  {
   "cell_type": "code",
   "execution_count": null,
   "metadata": {
    "execution": {
     "iopub.execute_input": "2023-04-27T11:36:47.376362Z",
     "iopub.status.busy": "2023-04-27T11:36:47.375490Z",
     "iopub.status.idle": "2023-04-27T11:36:47.387218Z",
     "shell.execute_reply": "2023-04-27T11:36:47.386237Z",
     "shell.execute_reply.started": "2023-04-27T11:36:47.376325Z"
    }
   },
   "outputs": [],
   "source": [
    "ohe = preprocessing.OneHotEncoder()\n",
    "y_train = ohe.fit_transform(np.array(y_train).reshape(-1, 1)).toarray()\n",
    "y_valid = ohe.fit_transform(np.array(y_valid).reshape(-1, 1)).toarray()\n",
    "y_test = ohe.fit_transform(np.array(y_test).reshape(-1, 1)).toarray()"
   ]
  },
  {
   "cell_type": "code",
   "execution_count": null,
   "metadata": {
    "execution": {
     "iopub.execute_input": "2023-04-27T11:36:47.389769Z",
     "iopub.status.busy": "2023-04-27T11:36:47.389046Z",
     "iopub.status.idle": "2023-04-27T11:36:47.399151Z",
     "shell.execute_reply": "2023-04-27T11:36:47.397947Z",
     "shell.execute_reply.started": "2023-04-27T11:36:47.389734Z"
    }
   },
   "outputs": [],
   "source": [
    "print(f\"TRAINING DATA: {X_train.shape[0]}\\nVALIDATION DATA: {X_valid.shape[0]}\\nTESTING DATA: {X_test.shape[0]}\" )"
   ]
  },
  {
   "cell_type": "markdown",
   "metadata": {},
   "source": [
    "# UzRoberta"
   ]
  },
  {
   "cell_type": "code",
   "execution_count": null,
   "metadata": {
    "execution": {
     "iopub.execute_input": "2023-04-27T11:36:47.401479Z",
     "iopub.status.busy": "2023-04-27T11:36:47.401210Z",
     "iopub.status.idle": "2023-04-27T11:36:48.881577Z",
     "shell.execute_reply": "2023-04-27T11:36:48.880448Z",
     "shell.execute_reply.started": "2023-04-27T11:36:47.401454Z"
    }
   },
   "outputs": [],
   "source": [
    "from transformers import AutoTokenizer\n",
    "\n",
    "tokenizer = AutoTokenizer.from_pretrained('rifkat/uztext-3Gb-BPE-Roberta')"
   ]
  },
  {
   "cell_type": "code",
   "execution_count": null,
   "metadata": {
    "execution": {
     "iopub.execute_input": "2023-04-27T11:36:48.888360Z",
     "iopub.status.busy": "2023-04-27T11:36:48.886112Z",
     "iopub.status.idle": "2023-04-27T11:36:48.893673Z",
     "shell.execute_reply": "2023-04-27T11:36:48.892210Z",
     "shell.execute_reply.started": "2023-04-27T11:36:48.888325Z"
    }
   },
   "outputs": [],
   "source": [
    "MAX_LEN=512"
   ]
  },
  {
   "cell_type": "code",
   "execution_count": null,
   "metadata": {
    "execution": {
     "iopub.execute_input": "2023-04-27T11:36:48.896020Z",
     "iopub.status.busy": "2023-04-27T11:36:48.895567Z",
     "iopub.status.idle": "2023-04-27T11:36:51.000265Z",
     "shell.execute_reply": "2023-04-27T11:36:50.998978Z",
     "shell.execute_reply.started": "2023-04-27T11:36:48.895983Z"
    }
   },
   "outputs": [],
   "source": [
    "# tokenize the training data\n",
    "train_inputs = tokenizer(X_train.tolist(), max_length=MAX_LEN, padding='max_length', truncation=True)\n",
    "train_input_ids = np.array(train_inputs['input_ids'])\n",
    "train_attention_masks = np.array(train_inputs['attention_mask'])\n",
    "\n",
    "# tokenize the validation data\n",
    "val_inputs = tokenizer(X_valid.tolist(), max_length=MAX_LEN, padding='max_length', truncation=True)\n",
    "val_input_ids = np.array(val_inputs['input_ids'])\n",
    "val_attention_masks = np.array(val_inputs['attention_mask'])\n",
    "\n",
    "# tokenize the test data\n",
    "test_inputs = tokenizer(X_test.tolist(), max_length=MAX_LEN, padding='max_length', truncation=True)\n",
    "test_input_ids = np.array(test_inputs['input_ids'])\n",
    "test_attention_masks = np.array(test_inputs['attention_mask'])"
   ]
  },
  {
   "cell_type": "markdown",
   "metadata": {},
   "source": [
    "# Modeling"
   ]
  },
  {
   "cell_type": "code",
   "execution_count": null,
   "metadata": {
    "execution": {
     "iopub.execute_input": "2023-04-27T11:36:51.008281Z",
     "iopub.status.busy": "2023-04-27T11:36:51.005619Z",
     "iopub.status.idle": "2023-04-27T11:36:51.020522Z",
     "shell.execute_reply": "2023-04-27T11:36:51.018980Z",
     "shell.execute_reply.started": "2023-04-27T11:36:51.008234Z"
    }
   },
   "outputs": [],
   "source": [
    "def create_model(roberta_model, max_len=MAX_LEN):\n",
    "    \n",
    "    opt = tf.keras.optimizers.Adam(\n",
    "        learning_rate=1e-5, \n",
    "        beta_1=0.9, \n",
    "        beta_2=0.999, \n",
    "        epsilon=1e-7\n",
    "    )\n",
    "    loss = tf.keras.losses.CategoricalCrossentropy()\n",
    "    accuracy = tf.keras.metrics.CategoricalAccuracy()\n",
    "\n",
    "    input_ids = tf.keras.Input(shape=(max_len,),dtype='int32')\n",
    "    attention_masks = tf.keras.Input(shape=(max_len,),dtype='int32')\n",
    "    output = roberta_model([input_ids,attention_masks])\n",
    "    output = output[1]\n",
    "    output = tf.keras.layers.Dense(2, activation=tf.nn.softmax)(output)\n",
    "    model = tf.keras.models.Model(inputs = [input_ids,attention_masks],outputs = output)\n",
    "    model.compile(opt, loss=loss, metrics=accuracy)\n",
    "    return model"
   ]
  },
  {
   "cell_type": "code",
   "execution_count": null,
   "metadata": {
    "execution": {
     "iopub.execute_input": "2023-04-27T11:36:51.023818Z",
     "iopub.status.busy": "2023-04-27T11:36:51.022769Z",
     "iopub.status.idle": "2023-04-27T11:37:04.426974Z",
     "shell.execute_reply": "2023-04-27T11:37:04.425884Z",
     "shell.execute_reply.started": "2023-04-27T11:36:51.023774Z"
    }
   },
   "outputs": [],
   "source": [
    "roberta_model = TFRobertaModel.from_pretrained('rifkat/uztext-3Gb-BPE-Roberta', from_pt=True)"
   ]
  },
  {
   "cell_type": "code",
   "execution_count": null,
   "metadata": {
    "execution": {
     "iopub.execute_input": "2023-04-27T11:37:04.429174Z",
     "iopub.status.busy": "2023-04-27T11:37:04.428726Z",
     "iopub.status.idle": "2023-04-27T11:37:10.554388Z",
     "shell.execute_reply": "2023-04-27T11:37:10.553593Z",
     "shell.execute_reply.started": "2023-04-27T11:37:04.429131Z"
    }
   },
   "outputs": [],
   "source": [
    "model = create_model(roberta_model, MAX_LEN)\n",
    "model.summary()"
   ]
  },
  {
   "cell_type": "code",
   "execution_count": null,
   "metadata": {
    "execution": {
     "iopub.execute_input": "2023-04-27T11:37:10.556378Z",
     "iopub.status.busy": "2023-04-27T11:37:10.555999Z",
     "iopub.status.idle": "2023-04-27T11:47:47.102254Z",
     "shell.execute_reply": "2023-04-27T11:47:47.101052Z",
     "shell.execute_reply.started": "2023-04-27T11:37:10.556339Z"
    }
   },
   "outputs": [],
   "source": [
    "model.fit([train_input_ids,train_attention_masks], y_train, validation_data=([val_input_ids,val_attention_masks], y_valid), epochs=4, batch_size=30)"
   ]
  },
  {
   "cell_type": "markdown",
   "metadata": {},
   "source": [
    "# Results"
   ]
  },
  {
   "cell_type": "code",
   "execution_count": null,
   "metadata": {
    "execution": {
     "iopub.execute_input": "2023-04-27T11:53:28.290585Z",
     "iopub.status.busy": "2023-04-27T11:53:28.289488Z",
     "iopub.status.idle": "2023-04-27T11:53:38.590283Z",
     "shell.execute_reply": "2023-04-27T11:53:38.589081Z",
     "shell.execute_reply.started": "2023-04-27T11:53:28.290544Z"
    }
   },
   "outputs": [],
   "source": [
    "result = model.predict([test_input_ids,test_attention_masks])"
   ]
  },
  {
   "cell_type": "code",
   "execution_count": null,
   "metadata": {
    "execution": {
     "iopub.execute_input": "2023-04-27T11:53:38.593275Z",
     "iopub.status.busy": "2023-04-27T11:53:38.592768Z",
     "iopub.status.idle": "2023-04-27T11:53:38.599598Z",
     "shell.execute_reply": "2023-04-27T11:53:38.598243Z",
     "shell.execute_reply.started": "2023-04-27T11:53:38.593234Z"
    }
   },
   "outputs": [],
   "source": [
    "y_pred =  np.zeros_like(result)\n",
    "y_pred[np.arange(len(y_pred)), result.argmax(1)] = 1"
   ]
  },
  {
   "cell_type": "code",
   "execution_count": null,
   "metadata": {
    "execution": {
     "iopub.execute_input": "2023-04-27T11:53:39.863198Z",
     "iopub.status.busy": "2023-04-27T11:53:39.862512Z",
     "iopub.status.idle": "2023-04-27T11:53:39.884840Z",
     "shell.execute_reply": "2023-04-27T11:53:39.883684Z",
     "shell.execute_reply.started": "2023-04-27T11:53:39.863159Z"
    }
   },
   "outputs": [],
   "source": [
    "print('\\tClassification Report:\\n\\n',classification_report(y_test,y_pred, target_names=['Negative', 'Positive']))"
   ]
  },
  {
   "cell_type": "code",
   "execution_count": null,
   "metadata": {
    "execution": {
     "iopub.execute_input": "2023-04-27T11:47:54.402024Z",
     "iopub.status.busy": "2023-04-27T11:47:54.401614Z",
     "iopub.status.idle": "2023-04-27T11:47:54.406796Z",
     "shell.execute_reply": "2023-04-27T11:47:54.405531Z",
     "shell.execute_reply.started": "2023-04-27T11:47:54.401992Z"
    }
   },
   "outputs": [],
   "source": [
    "# # save the model\n",
    "# model.save('news_sentiment_uzbek_model.h5')"
   ]
  },
  {
   "cell_type": "markdown",
   "metadata": {},
   "source": [
    "## Visualization"
   ]
  },
  {
   "cell_type": "code",
   "execution_count": 6,
   "metadata": {},
   "outputs": [
    {
     "data": {
      "text/plain": [
       "1    3219\n",
       "0    1485\n",
       "Name: sentiment, dtype: int64"
      ]
     },
     "execution_count": 6,
     "metadata": {},
     "output_type": "execute_result"
    }
   ],
   "source": [
    "news_df = pd.read_csv('datasets/news_dataset_labeled_simplified.csv')\n",
    "news_df['sentiment'] = news_df['sentiment'].replace({'positive': 1, 'negative': 0}, regex=True)\n",
    "news_df['sentiment'].value_counts()"
   ]
  },
  {
   "cell_type": "code",
   "execution_count": 7,
   "metadata": {},
   "outputs": [
    {
     "data": {
      "image/png": "[encoded data removed]",
      "text/plain": [
       "<Figure size 640x480 with 1 Axes>"
      ]
     },
     "metadata": {},
     "output_type": "display_data"
    }
   ],
   "source": [
    "%matplotlib inline\n",
    "\n",
    "# filter for dataframe\n",
    "filter_number = 10\n",
    "news_df['date'] = pd.to_datetime(news_df['date'])\n",
    "grouped_df = news_df.groupby(news_df['date'].dt.date).filter(lambda x: len(x['sentiment']) >= filter_number)\n",
    "daily_avg = grouped_df.groupby(grouped_df['date'].dt.date)['sentiment'].mean()\n",
    "\n",
    "# trendline\n",
    "z = np.polyfit(range(len(daily_avg.index)), daily_avg.values, 1)\n",
    "trendline = np.poly1d(z)\n",
    "trendline_start = trendline(0)\n",
    "trendline_end = trendline(len(daily_avg.index) - 1)\n",
    "\n",
    "# trendline plot\n",
    "fig, ax = plt.subplots()\n",
    "ax.plot(daily_avg.index, daily_avg.values, label=\"Average mood of the day\", color='#7ed2ff', alpha=0.6)\n",
    "\n",
    "# anotations\n",
    "ax.plot(daily_avg.index, trendline(range(len(daily_avg.index))), linestyle=\"--\", label=\"Trendline\", color='#cd34b5', alpha=0.8)\n",
    "ax.text(daily_avg.index[0], trendline_start, f'{trendline_start:.2f}', ha='left', va='bottom', color='#0000ff')\n",
    "ax.text(daily_avg.index[-1], trendline_end, f'{trendline_end:.2f}', ha='left', va='bottom', color='#9d02d7')\n",
    "\n",
    "# labels\n",
    "ax.set_xlabel(\"Days\", fontsize=14)\n",
    "ax.set_ylabel(\"Average mood of the day\", fontsize=14)\n",
    "# ax.set_ylim(ymin=0) \n",
    "ax.set_title(\"How the average mood of the news are changing over time \\n (Only days with 10+ news)\", fontsize=16)\n",
    "ax.legend()\n",
    "plt.show()"
   ]
  },
  {
   "cell_type": "markdown",
   "metadata": {},
   "source": [
    "## Test with user input"
   ]
  },
  {
   "cell_type": "code",
   "execution_count": null,
   "metadata": {},
   "outputs": [],
   "source": []
  },
  {
   "cell_type": "code",
   "execution_count": null,
   "metadata": {},
   "outputs": [],
   "source": []
  }
 ],
 "metadata": {
  "kernelspec": {
   "display_name": "Python 3 (ipykernel)",
   "language": "python",
   "name": "python3"
  },
  "language_info": {
   "codemirror_mode": {
    "name": "ipython",
    "version": 3
   },
   "file_extension": ".py",
   "mimetype": "text/x-python",
   "name": "python",
   "nbconvert_exporter": "python",
   "pygments_lexer": "ipython3",
   "version": "3.11.0"
  }
 },
 "nbformat": 4,
 "nbformat_minor": 4
}
